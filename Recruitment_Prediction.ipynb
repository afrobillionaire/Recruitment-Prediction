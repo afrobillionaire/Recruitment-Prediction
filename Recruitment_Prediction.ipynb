{
 "cells": [
  {
   "cell_type": "markdown",
   "source": "Version de Python utilisée : <b>Python 3.7.11</b>",
   "metadata": {
    "tags": [],
    "cell_id": "00003-5afb3919-9854-401d-b7cf-3c5b16e142ae",
    "deepnote_cell_type": "markdown"
   }
  },
  {
   "cell_type": "markdown",
   "source": "## Import des modules",
   "metadata": {
    "tags": [],
    "cell_id": "00002-d4b83ac0-96fa-4597-9f39-eecf0be46452",
    "deepnote_cell_type": "markdown"
   }
  },
  {
   "cell_type": "code",
   "metadata": {
    "tags": [],
    "cell_id": "00002-9c6729ea-0bef-4768-82cc-97b46b8e4338",
    "deepnote_to_be_reexecuted": false,
    "source_hash": "5edc73e8",
    "execution_start": 1630159888193,
    "execution_millis": 3899,
    "deepnote_cell_type": "code"
   },
   "source": "import numpy as np\nimport pandas as pd\nimport matplotlib.pyplot as plt\nimport seaborn as sns\nfrom scipy.stats import chi2_contingency\nfrom sklearn.metrics import classification_report\nfrom sklearn.metrics import accuracy_score\nfrom tqdm import trange, tqdm\nfrom sklearn.model_selection import train_test_split\nfrom sklearn.inspection import permutation_importance\nfrom sklearn.neighbors import KNeighborsClassifier\nfrom sklearn.ensemble import RandomForestClassifier\nfrom sklearn.feature_selection import SelectFromModel\n\nimport warnings\n%matplotlib inline\nwarnings.filterwarnings('ignore')\nprint('Imports terminés')",
   "execution_count": null,
   "outputs": [
    {
     "name": "stdout",
     "text": "Imports terminés\n",
     "output_type": "stream"
    }
   ]
  },
  {
   "cell_type": "markdown",
   "source": "## 1. Statistiques descriptives",
   "metadata": {
    "cell_id": "00002-c0bff64f-23e4-41b7-a90a-47096db35474",
    "deepnote_cell_type": "markdown"
   }
  },
  {
   "cell_type": "markdown",
   "source": "### 1. Décrivez le jeu de données",
   "metadata": {
    "cell_id": "00003-bba53271-b138-4076-9f5e-5785a60db5b3",
    "deepnote_cell_type": "markdown"
   }
  },
  {
   "cell_type": "code",
   "metadata": {
    "cell_id": "00004-82912868-06c6-414d-a0e0-941d029c098c",
    "deepnote_to_be_reexecuted": false,
    "source_hash": "399e2dfb",
    "execution_start": 1630159892102,
    "execution_millis": 53,
    "deepnote_cell_type": "code"
   },
   "source": "# Lecture des données\ndata = pd.read_csv('data.csv')",
   "execution_count": null,
   "outputs": []
  },
  {
   "cell_type": "code",
   "metadata": {
    "tags": [],
    "cell_id": "00007-ea2610b6-74dd-4aab-8e7d-854102c1fb52",
    "deepnote_to_be_reexecuted": false,
    "source_hash": "957547ae",
    "execution_start": 1630159892166,
    "execution_millis": 82,
    "deepnote_cell_type": "code"
   },
   "source": "data.info()",
   "execution_count": null,
   "outputs": [
    {
     "name": "stdout",
     "text": "<class 'pandas.core.frame.DataFrame'>\nRangeIndex: 20000 entries, 0 to 19999\nData columns (total 13 columns):\n #   Column      Non-Null Count  Dtype  \n---  ------      --------------  -----  \n 0   Unnamed: 0  20000 non-null  int64  \n 1   index       20000 non-null  int64  \n 2   date        19909 non-null  object \n 3   cheveux     19897 non-null  object \n 4   age         19909 non-null  float64\n 5   exp         19904 non-null  float64\n 6   salaire     19905 non-null  float64\n 7   sexe        19900 non-null  object \n 8   diplome     19890 non-null  object \n 9   specialite  19907 non-null  object \n 10  note        19886 non-null  float64\n 11  dispo       19894 non-null  object \n 12  embauche    20000 non-null  int64  \ndtypes: float64(4), int64(3), object(6)\nmemory usage: 2.0+ MB\n",
     "output_type": "stream"
    }
   ]
  },
  {
   "cell_type": "code",
   "metadata": {
    "cell_id": "00005-a6c557ba-ac19-4b7d-a3c2-431e9f1870c3",
    "deepnote_to_be_reexecuted": false,
    "source_hash": "2007f58",
    "execution_start": 1630159892240,
    "execution_millis": 8,
    "deepnote_output_heights": [
     21.1875
    ],
    "deepnote_cell_type": "code"
   },
   "source": "data.shape",
   "execution_count": null,
   "outputs": [
    {
     "output_type": "execute_result",
     "execution_count": 4,
     "data": {
      "text/plain": "(20000, 13)"
     },
     "metadata": {}
    }
   ]
  },
  {
   "cell_type": "code",
   "metadata": {
    "cell_id": "00006-51f7bfbc-909a-4960-a087-6c7228ed900f",
    "deepnote_to_be_reexecuted": false,
    "source_hash": "41313cfa",
    "execution_start": 1630159892241,
    "execution_millis": 92,
    "deepnote_cell_type": "code"
   },
   "source": "data.head()",
   "execution_count": null,
   "outputs": [
    {
     "output_type": "execute_result",
     "execution_count": 5,
     "data": {
      "application/vnd.deepnote.dataframe.v2+json": {
       "row_count": 5,
       "column_count": 13,
       "columns": [
        {
         "name": "Unnamed: 0",
         "dtype": "int64",
         "stats": {
          "unique_count": 5,
          "nan_count": 0,
          "min": "0",
          "max": "4",
          "histogram": [
           {
            "bin_start": 0,
            "bin_end": 0.4,
            "count": 1
           },
           {
            "bin_start": 0.4,
            "bin_end": 0.8,
            "count": 0
           },
           {
            "bin_start": 0.8,
            "bin_end": 1.2000000000000002,
            "count": 1
           },
           {
            "bin_start": 1.2000000000000002,
            "bin_end": 1.6,
            "count": 0
           },
           {
            "bin_start": 1.6,
            "bin_end": 2,
            "count": 0
           },
           {
            "bin_start": 2,
            "bin_end": 2.4000000000000004,
            "count": 1
           },
           {
            "bin_start": 2.4000000000000004,
            "bin_end": 2.8000000000000003,
            "count": 0
           },
           {
            "bin_start": 2.8000000000000003,
            "bin_end": 3.2,
            "count": 1
           },
           {
            "bin_start": 3.2,
            "bin_end": 3.6,
            "count": 0
           },
           {
            "bin_start": 3.6,
            "bin_end": 4,
            "count": 1
           }
          ]
         }
        },
        {
         "name": "index",
         "dtype": "int64",
         "stats": {
          "unique_count": 5,
          "nan_count": 0,
          "min": "0",
          "max": "4",
          "histogram": [
           {
            "bin_start": 0,
            "bin_end": 0.4,
            "count": 1
           },
           {
            "bin_start": 0.4,
            "bin_end": 0.8,
            "count": 0
           },
           {
            "bin_start": 0.8,
            "bin_end": 1.2000000000000002,
            "count": 1
           },
           {
            "bin_start": 1.2000000000000002,
            "bin_end": 1.6,
            "count": 0
           },
           {
            "bin_start": 1.6,
            "bin_end": 2,
            "count": 0
           },
           {
            "bin_start": 2,
            "bin_end": 2.4000000000000004,
            "count": 1
           },
           {
            "bin_start": 2.4000000000000004,
            "bin_end": 2.8000000000000003,
            "count": 0
           },
           {
            "bin_start": 2.8000000000000003,
            "bin_end": 3.2,
            "count": 1
           },
           {
            "bin_start": 3.2,
            "bin_end": 3.6,
            "count": 0
           },
           {
            "bin_start": 3.6,
            "bin_end": 4,
            "count": 1
           }
          ]
         }
        },
        {
         "name": "date",
         "dtype": "object",
         "stats": {
          "unique_count": 5,
          "nan_count": 0,
          "categories": [
           {
            "name": "2012-06-02",
            "count": 1
           },
           {
            "name": "2011-04-21",
            "count": 1
           },
           {
            "name": "3 others",
            "count": 3
           }
          ]
         }
        },
        {
         "name": "cheveux",
         "dtype": "object",
         "stats": {
          "unique_count": 3,
          "nan_count": 0,
          "categories": [
           {
            "name": "roux",
            "count": 2
           },
           {
            "name": "blond",
            "count": 2
           },
           {
            "name": "brun",
            "count": 1
           }
          ]
         }
        },
        {
         "name": "age",
         "dtype": "float64",
         "stats": {
          "unique_count": 3,
          "nan_count": 1,
          "min": "25.0",
          "max": "35.0",
          "histogram": [
           {
            "bin_start": 25,
            "bin_end": 26,
            "count": 1
           },
           {
            "bin_start": 26,
            "bin_end": 27,
            "count": 0
           },
           {
            "bin_start": 27,
            "bin_end": 28,
            "count": 0
           },
           {
            "bin_start": 28,
            "bin_end": 29,
            "count": 0
           },
           {
            "bin_start": 29,
            "bin_end": 30,
            "count": 1
           },
           {
            "bin_start": 30,
            "bin_end": 31,
            "count": 0
           },
           {
            "bin_start": 31,
            "bin_end": 32,
            "count": 0
           },
           {
            "bin_start": 32,
            "bin_end": 33,
            "count": 0
           },
           {
            "bin_start": 33,
            "bin_end": 34,
            "count": 0
           },
           {
            "bin_start": 34,
            "bin_end": 35,
            "count": 2
           }
          ]
         }
        },
        {
         "name": "exp",
         "dtype": "float64",
         "stats": {
          "unique_count": 4,
          "nan_count": 0,
          "min": "6.0",
          "max": "13.0",
          "histogram": [
           {
            "bin_start": 6,
            "bin_end": 6.7,
            "count": 1
           },
           {
            "bin_start": 6.7,
            "bin_end": 7.4,
            "count": 0
           },
           {
            "bin_start": 7.4,
            "bin_end": 8.1,
            "count": 0
           },
           {
            "bin_start": 8.1,
            "bin_end": 8.8,
            "count": 0
           },
           {
            "bin_start": 8.8,
            "bin_end": 9.5,
            "count": 1
           },
           {
            "bin_start": 9.5,
            "bin_end": 10.2,
            "count": 0
           },
           {
            "bin_start": 10.2,
            "bin_end": 10.899999999999999,
            "count": 0
           },
           {
            "bin_start": 10.899999999999999,
            "bin_end": 11.6,
            "count": 0
           },
           {
            "bin_start": 11.6,
            "bin_end": 12.3,
            "count": 1
           },
           {
            "bin_start": 12.3,
            "bin_end": 13,
            "count": 2
           }
          ]
         }
        },
        {
         "name": "salaire",
         "dtype": "float64",
         "stats": {
          "unique_count": 5,
          "nan_count": 0,
          "min": "26803.0",
          "max": "38166.0",
          "histogram": [
           {
            "bin_start": 26803,
            "bin_end": 27939.3,
            "count": 1
           },
           {
            "bin_start": 27939.3,
            "bin_end": 29075.6,
            "count": 1
           },
           {
            "bin_start": 29075.6,
            "bin_end": 30211.9,
            "count": 0
           },
           {
            "bin_start": 30211.9,
            "bin_end": 31348.2,
            "count": 0
           },
           {
            "bin_start": 31348.2,
            "bin_end": 32484.5,
            "count": 1
           },
           {
            "bin_start": 32484.5,
            "bin_end": 33620.8,
            "count": 0
           },
           {
            "bin_start": 33620.8,
            "bin_end": 34757.1,
            "count": 0
           },
           {
            "bin_start": 34757.1,
            "bin_end": 35893.4,
            "count": 1
           },
           {
            "bin_start": 35893.4,
            "bin_end": 37029.7,
            "count": 0
           },
           {
            "bin_start": 37029.7,
            "bin_end": 38166,
            "count": 1
           }
          ]
         }
        },
        {
         "name": "sexe",
         "dtype": "object",
         "stats": {
          "unique_count": 2,
          "nan_count": 0,
          "categories": [
           {
            "name": "M",
            "count": 3
           },
           {
            "name": "F",
            "count": 2
           }
          ]
         }
        },
        {
         "name": "diplome",
         "dtype": "object",
         "stats": {
          "unique_count": 1,
          "nan_count": 0,
          "categories": [
           {
            "name": "licence",
            "count": 5
           }
          ]
         }
        },
        {
         "name": "specialite",
         "dtype": "object",
         "stats": {
          "unique_count": 3,
          "nan_count": 0,
          "categories": [
           {
            "name": "geologie",
            "count": 3
           },
           {
            "name": "forage",
            "count": 1
           },
           {
            "name": "detective",
            "count": 1
           }
          ]
         }
        },
        {
         "name": "note",
         "dtype": "float64",
         "stats": {
          "unique_count": 5,
          "nan_count": 0,
          "min": "45.09",
          "max": "97.08",
          "histogram": [
           {
            "bin_start": 45.09,
            "bin_end": 50.289,
            "count": 1
           },
           {
            "bin_start": 50.289,
            "bin_end": 55.488,
            "count": 0
           },
           {
            "bin_start": 55.488,
            "bin_end": 60.687000000000005,
            "count": 0
           },
           {
            "bin_start": 60.687000000000005,
            "bin_end": 65.886,
            "count": 1
           },
           {
            "bin_start": 65.886,
            "bin_end": 71.08500000000001,
            "count": 0
           },
           {
            "bin_start": 71.08500000000001,
            "bin_end": 76.284,
            "count": 0
           },
           {
            "bin_start": 76.284,
            "bin_end": 81.483,
            "count": 1
           },
           {
            "bin_start": 81.483,
            "bin_end": 86.682,
            "count": 1
           },
           {
            "bin_start": 86.682,
            "bin_end": 91.881,
            "count": 0
           },
           {
            "bin_start": 91.881,
            "bin_end": 97.08,
            "count": 1
           }
          ]
         }
        },
        {
         "name": "dispo",
         "dtype": "object",
         "stats": {
          "unique_count": 1,
          "nan_count": 0,
          "categories": [
           {
            "name": "non",
            "count": 5
           }
          ]
         }
        },
        {
         "name": "embauche",
         "dtype": "int64",
         "stats": {
          "unique_count": 1,
          "nan_count": 0,
          "min": "0",
          "max": "0",
          "histogram": [
           {
            "bin_start": -0.5,
            "bin_end": -0.4,
            "count": 0
           },
           {
            "bin_start": -0.4,
            "bin_end": -0.3,
            "count": 0
           },
           {
            "bin_start": -0.3,
            "bin_end": -0.19999999999999996,
            "count": 0
           },
           {
            "bin_start": -0.19999999999999996,
            "bin_end": -0.09999999999999998,
            "count": 0
           },
           {
            "bin_start": -0.09999999999999998,
            "bin_end": 0,
            "count": 0
           },
           {
            "bin_start": 0,
            "bin_end": 0.10000000000000009,
            "count": 5
           },
           {
            "bin_start": 0.10000000000000009,
            "bin_end": 0.20000000000000007,
            "count": 0
           },
           {
            "bin_start": 0.20000000000000007,
            "bin_end": 0.30000000000000004,
            "count": 0
           },
           {
            "bin_start": 0.30000000000000004,
            "bin_end": 0.4,
            "count": 0
           },
           {
            "bin_start": 0.4,
            "bin_end": 0.5,
            "count": 0
           }
          ]
         }
        },
        {
         "name": "_deepnote_index_column",
         "dtype": "int64"
        }
       ],
       "rows_top": [
        {
         "Unnamed: 0": 0,
         "index": 0,
         "date": "2012-06-02",
         "cheveux": "roux",
         "age": 25,
         "exp": 9,
         "salaire": 26803,
         "sexe": "F",
         "diplome": "licence",
         "specialite": "geologie",
         "note": 97.08,
         "dispo": "non",
         "embauche": 0,
         "_deepnote_index_column": 0
        },
        {
         "Unnamed: 0": 1,
         "index": 1,
         "date": "2011-04-21",
         "cheveux": "blond",
         "age": 35,
         "exp": 13,
         "salaire": 38166,
         "sexe": "M",
         "diplome": "licence",
         "specialite": "forage",
         "note": 63.86,
         "dispo": "non",
         "embauche": 0,
         "_deepnote_index_column": 1
        },
        {
         "Unnamed: 0": 2,
         "index": 2,
         "date": "2012-09-07",
         "cheveux": "blond",
         "age": 29,
         "exp": 13,
         "salaire": 35207,
         "sexe": "M",
         "diplome": "licence",
         "specialite": "geologie",
         "note": 78.5,
         "dispo": "non",
         "embauche": 0,
         "_deepnote_index_column": 2
        },
        {
         "Unnamed: 0": 3,
         "index": 3,
         "date": "2011-07-01",
         "cheveux": "brun",
         "age": "nan",
         "exp": 12,
         "salaire": 32442,
         "sexe": "M",
         "diplome": "licence",
         "specialite": "geologie",
         "note": 45.09,
         "dispo": "non",
         "embauche": 0,
         "_deepnote_index_column": 3
        },
        {
         "Unnamed: 0": 4,
         "index": 4,
         "date": "2012-08-07",
         "cheveux": "roux",
         "age": 35,
         "exp": 6,
         "salaire": 28533,
         "sexe": "F",
         "diplome": "licence",
         "specialite": "detective",
         "note": 81.91,
         "dispo": "non",
         "embauche": 0,
         "_deepnote_index_column": 4
        }
       ],
       "rows_bottom": null
      },
      "text/plain": "   Unnamed: 0  index        date cheveux   age   exp  salaire sexe  diplome  \\\n0           0      0  2012-06-02    roux  25.0   9.0  26803.0    F  licence   \n1           1      1  2011-04-21   blond  35.0  13.0  38166.0    M  licence   \n2           2      2  2012-09-07   blond  29.0  13.0  35207.0    M  licence   \n3           3      3  2011-07-01    brun   NaN  12.0  32442.0    M  licence   \n4           4      4  2012-08-07    roux  35.0   6.0  28533.0    F  licence   \n\n  specialite   note dispo  embauche  \n0   geologie  97.08   non         0  \n1     forage  63.86   non         0  \n2   geologie  78.50   non         0  \n3   geologie  45.09   non         0  \n4  detective  81.91   non         0  ",
      "text/html": "<div>\n<style scoped>\n    .dataframe tbody tr th:only-of-type {\n        vertical-align: middle;\n    }\n\n    .dataframe tbody tr th {\n        vertical-align: top;\n    }\n\n    .dataframe thead th {\n        text-align: right;\n    }\n</style>\n<table border=\"1\" class=\"dataframe\">\n  <thead>\n    <tr style=\"text-align: right;\">\n      <th></th>\n      <th>Unnamed: 0</th>\n      <th>index</th>\n      <th>date</th>\n      <th>cheveux</th>\n      <th>age</th>\n      <th>exp</th>\n      <th>salaire</th>\n      <th>sexe</th>\n      <th>diplome</th>\n      <th>specialite</th>\n      <th>note</th>\n      <th>dispo</th>\n      <th>embauche</th>\n    </tr>\n  </thead>\n  <tbody>\n    <tr>\n      <th>0</th>\n      <td>0</td>\n      <td>0</td>\n      <td>2012-06-02</td>\n      <td>roux</td>\n      <td>25.0</td>\n      <td>9.0</td>\n      <td>26803.0</td>\n      <td>F</td>\n      <td>licence</td>\n      <td>geologie</td>\n      <td>97.08</td>\n      <td>non</td>\n      <td>0</td>\n    </tr>\n    <tr>\n      <th>1</th>\n      <td>1</td>\n      <td>1</td>\n      <td>2011-04-21</td>\n      <td>blond</td>\n      <td>35.0</td>\n      <td>13.0</td>\n      <td>38166.0</td>\n      <td>M</td>\n      <td>licence</td>\n      <td>forage</td>\n      <td>63.86</td>\n      <td>non</td>\n      <td>0</td>\n    </tr>\n    <tr>\n      <th>2</th>\n      <td>2</td>\n      <td>2</td>\n      <td>2012-09-07</td>\n      <td>blond</td>\n      <td>29.0</td>\n      <td>13.0</td>\n      <td>35207.0</td>\n      <td>M</td>\n      <td>licence</td>\n      <td>geologie</td>\n      <td>78.50</td>\n      <td>non</td>\n      <td>0</td>\n    </tr>\n    <tr>\n      <th>3</th>\n      <td>3</td>\n      <td>3</td>\n      <td>2011-07-01</td>\n      <td>brun</td>\n      <td>NaN</td>\n      <td>12.0</td>\n      <td>32442.0</td>\n      <td>M</td>\n      <td>licence</td>\n      <td>geologie</td>\n      <td>45.09</td>\n      <td>non</td>\n      <td>0</td>\n    </tr>\n    <tr>\n      <th>4</th>\n      <td>4</td>\n      <td>4</td>\n      <td>2012-08-07</td>\n      <td>roux</td>\n      <td>35.0</td>\n      <td>6.0</td>\n      <td>28533.0</td>\n      <td>F</td>\n      <td>licence</td>\n      <td>detective</td>\n      <td>81.91</td>\n      <td>non</td>\n      <td>0</td>\n    </tr>\n  </tbody>\n</table>\n</div>"
     },
     "metadata": {}
    }
   ]
  },
  {
   "cell_type": "markdown",
   "source": "Dans le cadre de notre analyse, on pourra se passer des colonnes 'index' et 'date' qui ne seront a priori pas pertinents pour notre prédicition.\n\nOn peut maintenant essayer de savoir combien de valeurs manquantes comporte notre jeu de données.",
   "metadata": {
    "tags": [],
    "cell_id": "00011-cb3bf028-e944-4f65-9178-fc53acac8be3",
    "deepnote_cell_type": "markdown"
   }
  },
  {
   "cell_type": "code",
   "metadata": {
    "cell_id": "00007-d625e9b3-e435-463d-9407-2c2434f8e11d",
    "deepnote_to_be_reexecuted": false,
    "source_hash": "5ca41347",
    "execution_start": 1630159892370,
    "execution_millis": 9,
    "deepnote_output_heights": [
     270.625
    ],
    "deepnote_cell_type": "code"
   },
   "source": "# Compter les valeurs manquantes\ndata.isna().sum()",
   "execution_count": null,
   "outputs": [
    {
     "output_type": "execute_result",
     "execution_count": 6,
     "data": {
      "text/plain": "Unnamed: 0      0\nindex           0\ndate           91\ncheveux       103\nage            91\nexp            96\nsalaire        95\nsexe          100\ndiplome       110\nspecialite     93\nnote          114\ndispo         106\nembauche        0\ndtype: int64"
     },
     "metadata": {}
    }
   ]
  },
  {
   "cell_type": "code",
   "metadata": {
    "tags": [],
    "cell_id": "00010-16beda16-3059-420e-8098-15b8d2d88fe9",
    "deepnote_to_be_reexecuted": false,
    "source_hash": "df77fdf0",
    "execution_start": 1630159892371,
    "execution_millis": 24,
    "deepnote_cell_type": "code"
   },
   "source": "# On s'interesse aux modalités présentes au sein des différentes classes\nfor col in data.select_dtypes(include='object').columns:\n    nb = data[col].nunique()\n    if nb > 1:\n        print(f'La colonne {col} dispose de {nb} modalités')",
   "execution_count": null,
   "outputs": [
    {
     "name": "stdout",
     "text": "La colonne date dispose de 1826 modalités\nLa colonne cheveux dispose de 4 modalités\nLa colonne sexe dispose de 2 modalités\nLa colonne diplome dispose de 4 modalités\nLa colonne specialite dispose de 4 modalités\nLa colonne dispo dispose de 2 modalités\n",
     "output_type": "stream"
    }
   ]
  },
  {
   "cell_type": "code",
   "metadata": {
    "cell_id": "00008-975366fd-05f1-4ed0-a8df-c81ecb7888da",
    "deepnote_to_be_reexecuted": false,
    "source_hash": "d786443f",
    "execution_start": 1630159892391,
    "execution_millis": 60,
    "deepnote_cell_type": "code"
   },
   "source": "data.describe()",
   "execution_count": null,
   "outputs": [
    {
     "output_type": "execute_result",
     "execution_count": 8,
     "data": {
      "application/vnd.deepnote.dataframe.v2+json": {
       "row_count": 8,
       "column_count": 7,
       "columns": [
        {
         "name": "Unnamed: 0",
         "dtype": "float64",
         "stats": {
          "unique_count": 7,
          "nan_count": 0,
          "min": "0.0",
          "max": "20000.0",
          "histogram": [
           {
            "bin_start": 0,
            "bin_end": 2000,
            "count": 1
           },
           {
            "bin_start": 2000,
            "bin_end": 4000,
            "count": 0
           },
           {
            "bin_start": 4000,
            "bin_end": 6000,
            "count": 2
           },
           {
            "bin_start": 6000,
            "bin_end": 8000,
            "count": 0
           },
           {
            "bin_start": 8000,
            "bin_end": 10000,
            "count": 2
           },
           {
            "bin_start": 10000,
            "bin_end": 12000,
            "count": 0
           },
           {
            "bin_start": 12000,
            "bin_end": 14000,
            "count": 0
           },
           {
            "bin_start": 14000,
            "bin_end": 16000,
            "count": 1
           },
           {
            "bin_start": 16000,
            "bin_end": 18000,
            "count": 0
           },
           {
            "bin_start": 18000,
            "bin_end": 20000,
            "count": 2
           }
          ]
         }
        },
        {
         "name": "index",
         "dtype": "float64",
         "stats": {
          "unique_count": 7,
          "nan_count": 0,
          "min": "0.0",
          "max": "20000.0",
          "histogram": [
           {
            "bin_start": 0,
            "bin_end": 2000,
            "count": 1
           },
           {
            "bin_start": 2000,
            "bin_end": 4000,
            "count": 0
           },
           {
            "bin_start": 4000,
            "bin_end": 6000,
            "count": 2
           },
           {
            "bin_start": 6000,
            "bin_end": 8000,
            "count": 0
           },
           {
            "bin_start": 8000,
            "bin_end": 10000,
            "count": 2
           },
           {
            "bin_start": 10000,
            "bin_end": 12000,
            "count": 0
           },
           {
            "bin_start": 12000,
            "bin_end": 14000,
            "count": 0
           },
           {
            "bin_start": 14000,
            "bin_end": 16000,
            "count": 1
           },
           {
            "bin_start": 16000,
            "bin_end": 18000,
            "count": 0
           },
           {
            "bin_start": 18000,
            "bin_end": 20000,
            "count": 2
           }
          ]
         }
        },
        {
         "name": "age",
         "dtype": "float64",
         "stats": {
          "unique_count": 8,
          "nan_count": 0,
          "min": "-3.0",
          "max": "19909.0",
          "histogram": [
           {
            "bin_start": -3,
            "bin_end": 1988.2,
            "count": 7
           },
           {
            "bin_start": 1988.2,
            "bin_end": 3979.4,
            "count": 0
           },
           {
            "bin_start": 3979.4,
            "bin_end": 5970.6,
            "count": 0
           },
           {
            "bin_start": 5970.6,
            "bin_end": 7961.8,
            "count": 0
           },
           {
            "bin_start": 7961.8,
            "bin_end": 9953,
            "count": 0
           },
           {
            "bin_start": 9953,
            "bin_end": 11944.2,
            "count": 0
           },
           {
            "bin_start": 11944.2,
            "bin_end": 13935.4,
            "count": 0
           },
           {
            "bin_start": 13935.4,
            "bin_end": 15926.6,
            "count": 0
           },
           {
            "bin_start": 15926.6,
            "bin_end": 17917.8,
            "count": 0
           },
           {
            "bin_start": 17917.8,
            "bin_end": 19909,
            "count": 1
           }
          ]
         }
        },
        {
         "name": "exp",
         "dtype": "float64",
         "stats": {
          "unique_count": 8,
          "nan_count": 0,
          "min": "-2.0",
          "max": "19904.0",
          "histogram": [
           {
            "bin_start": -2,
            "bin_end": 1988.6,
            "count": 7
           },
           {
            "bin_start": 1988.6,
            "bin_end": 3979.2,
            "count": 0
           },
           {
            "bin_start": 3979.2,
            "bin_end": 5969.799999999999,
            "count": 0
           },
           {
            "bin_start": 5969.799999999999,
            "bin_end": 7960.4,
            "count": 0
           },
           {
            "bin_start": 7960.4,
            "bin_end": 9951,
            "count": 0
           },
           {
            "bin_start": 9951,
            "bin_end": 11941.599999999999,
            "count": 0
           },
           {
            "bin_start": 11941.599999999999,
            "bin_end": 13932.199999999999,
            "count": 0
           },
           {
            "bin_start": 13932.199999999999,
            "bin_end": 15922.8,
            "count": 0
           },
           {
            "bin_start": 15922.8,
            "bin_end": 17913.399999999998,
            "count": 0
           },
           {
            "bin_start": 17913.399999999998,
            "bin_end": 19904,
            "count": 1
           }
          ]
         }
        },
        {
         "name": "salaire",
         "dtype": "float64",
         "stats": {
          "unique_count": 8,
          "nan_count": 0,
          "min": "5003.099616475662",
          "max": "53977.0",
          "histogram": [
           {
            "bin_start": 5003.099616475662,
            "bin_end": 9900.489654828096,
            "count": 1
           },
           {
            "bin_start": 9900.489654828096,
            "bin_end": 14797.879693180528,
            "count": 1
           },
           {
            "bin_start": 14797.879693180528,
            "bin_end": 19695.26973153296,
            "count": 0
           },
           {
            "bin_start": 19695.26973153296,
            "bin_end": 24592.659769885395,
            "count": 1
           },
           {
            "bin_start": 24592.659769885395,
            "bin_end": 29490.04980823783,
            "count": 0
           },
           {
            "bin_start": 29490.04980823783,
            "bin_end": 34387.43984659026,
            "count": 1
           },
           {
            "bin_start": 34387.43984659026,
            "bin_end": 39284.829884942694,
            "count": 3
           },
           {
            "bin_start": 39284.829884942694,
            "bin_end": 44182.219923295124,
            "count": 0
           },
           {
            "bin_start": 44182.219923295124,
            "bin_end": 49079.609961647555,
            "count": 0
           },
           {
            "bin_start": 49079.609961647555,
            "bin_end": 53977,
            "count": 1
           }
          ]
         }
        },
        {
         "name": "note",
         "dtype": "float64",
         "stats": {
          "unique_count": 8,
          "nan_count": 0,
          "min": "8.68",
          "max": "19886.0",
          "histogram": [
           {
            "bin_start": 8.68,
            "bin_end": 1996.412,
            "count": 7
           },
           {
            "bin_start": 1996.412,
            "bin_end": 3984.144,
            "count": 0
           },
           {
            "bin_start": 3984.144,
            "bin_end": 5971.876,
            "count": 0
           },
           {
            "bin_start": 5971.876,
            "bin_end": 7959.608,
            "count": 0
           },
           {
            "bin_start": 7959.608,
            "bin_end": 9947.34,
            "count": 0
           },
           {
            "bin_start": 9947.34,
            "bin_end": 11935.072,
            "count": 0
           },
           {
            "bin_start": 11935.072,
            "bin_end": 13922.804,
            "count": 0
           },
           {
            "bin_start": 13922.804,
            "bin_end": 15910.536,
            "count": 0
           },
           {
            "bin_start": 15910.536,
            "bin_end": 17898.268,
            "count": 0
           },
           {
            "bin_start": 17898.268,
            "bin_end": 19886,
            "count": 1
           }
          ]
         }
        },
        {
         "name": "embauche",
         "dtype": "float64",
         "stats": {
          "unique_count": 5,
          "nan_count": 0,
          "min": "0.0",
          "max": "20000.0",
          "histogram": [
           {
            "bin_start": 0,
            "bin_end": 2000,
            "count": 7
           },
           {
            "bin_start": 2000,
            "bin_end": 4000,
            "count": 0
           },
           {
            "bin_start": 4000,
            "bin_end": 6000,
            "count": 0
           },
           {
            "bin_start": 6000,
            "bin_end": 8000,
            "count": 0
           },
           {
            "bin_start": 8000,
            "bin_end": 10000,
            "count": 0
           },
           {
            "bin_start": 10000,
            "bin_end": 12000,
            "count": 0
           },
           {
            "bin_start": 12000,
            "bin_end": 14000,
            "count": 0
           },
           {
            "bin_start": 14000,
            "bin_end": 16000,
            "count": 0
           },
           {
            "bin_start": 16000,
            "bin_end": 18000,
            "count": 0
           },
           {
            "bin_start": 18000,
            "bin_end": 20000,
            "count": 1
           }
          ]
         }
        },
        {
         "name": "_deepnote_index_column",
         "dtype": "object"
        }
       ],
       "rows_top": [
        {
         "Unnamed: 0": 20000,
         "index": 20000,
         "age": 19909,
         "exp": 19904,
         "salaire": 19905,
         "note": 19886,
         "embauche": 20000,
         "_deepnote_index_column": "count"
        },
        {
         "Unnamed: 0": 9999.5,
         "index": 9999.5,
         "age": 35.00452056858707,
         "exp": 9.500351688102894,
         "salaire": 34974.343933685006,
         "note": 75.16876194307554,
         "embauche": 0.1146,
         "_deepnote_index_column": "mean"
        },
        {
         "Unnamed: 0": 5773.647027659381,
         "index": 5773.647027659381,
         "age": 9.609168842115757,
         "exp": 3.012109389003007,
         "salaire": 5003.099616475662,
         "note": 17.09592643393744,
         "embauche": 0.3185465642503146,
         "_deepnote_index_column": "std"
        },
        {
         "Unnamed: 0": 0,
         "index": 0,
         "age": -3,
         "exp": -2,
         "salaire": 14128,
         "note": 8.68,
         "embauche": 0,
         "_deepnote_index_column": "min"
        },
        {
         "Unnamed: 0": 4999.75,
         "index": 4999.75,
         "age": 29,
         "exp": 7,
         "salaire": 31596,
         "note": 63.72,
         "embauche": 0,
         "_deepnote_index_column": "25%"
        },
        {
         "Unnamed: 0": 9999.5,
         "index": 9999.5,
         "age": 35,
         "exp": 9,
         "salaire": 34979,
         "note": 75.08,
         "embauche": 0,
         "_deepnote_index_column": "50%"
        },
        {
         "Unnamed: 0": 14999.25,
         "index": 14999.25,
         "age": 41,
         "exp": 12,
         "salaire": 38358,
         "note": 86.6175,
         "embauche": 0,
         "_deepnote_index_column": "75%"
        },
        {
         "Unnamed: 0": 19999,
         "index": 19999,
         "age": 74,
         "exp": 23,
         "salaire": 53977,
         "note": 143.22,
         "embauche": 1,
         "_deepnote_index_column": "max"
        }
       ],
       "rows_bottom": null
      },
      "text/plain": "         Unnamed: 0         index           age           exp       salaire  \\\ncount  20000.000000  20000.000000  19909.000000  19904.000000  19905.000000   \nmean    9999.500000   9999.500000     35.004521      9.500352  34974.343934   \nstd     5773.647028   5773.647028      9.609169      3.012109   5003.099616   \nmin        0.000000      0.000000     -3.000000     -2.000000  14128.000000   \n25%     4999.750000   4999.750000     29.000000      7.000000  31596.000000   \n50%     9999.500000   9999.500000     35.000000      9.000000  34979.000000   \n75%    14999.250000  14999.250000     41.000000     12.000000  38358.000000   \nmax    19999.000000  19999.000000     74.000000     23.000000  53977.000000   \n\n               note      embauche  \ncount  19886.000000  20000.000000  \nmean      75.168762      0.114600  \nstd       17.095926      0.318547  \nmin        8.680000      0.000000  \n25%       63.720000      0.000000  \n50%       75.080000      0.000000  \n75%       86.617500      0.000000  \nmax      143.220000      1.000000  ",
      "text/html": "<div>\n<style scoped>\n    .dataframe tbody tr th:only-of-type {\n        vertical-align: middle;\n    }\n\n    .dataframe tbody tr th {\n        vertical-align: top;\n    }\n\n    .dataframe thead th {\n        text-align: right;\n    }\n</style>\n<table border=\"1\" class=\"dataframe\">\n  <thead>\n    <tr style=\"text-align: right;\">\n      <th></th>\n      <th>Unnamed: 0</th>\n      <th>index</th>\n      <th>age</th>\n      <th>exp</th>\n      <th>salaire</th>\n      <th>note</th>\n      <th>embauche</th>\n    </tr>\n  </thead>\n  <tbody>\n    <tr>\n      <th>count</th>\n      <td>20000.000000</td>\n      <td>20000.000000</td>\n      <td>19909.000000</td>\n      <td>19904.000000</td>\n      <td>19905.000000</td>\n      <td>19886.000000</td>\n      <td>20000.000000</td>\n    </tr>\n    <tr>\n      <th>mean</th>\n      <td>9999.500000</td>\n      <td>9999.500000</td>\n      <td>35.004521</td>\n      <td>9.500352</td>\n      <td>34974.343934</td>\n      <td>75.168762</td>\n      <td>0.114600</td>\n    </tr>\n    <tr>\n      <th>std</th>\n      <td>5773.647028</td>\n      <td>5773.647028</td>\n      <td>9.609169</td>\n      <td>3.012109</td>\n      <td>5003.099616</td>\n      <td>17.095926</td>\n      <td>0.318547</td>\n    </tr>\n    <tr>\n      <th>min</th>\n      <td>0.000000</td>\n      <td>0.000000</td>\n      <td>-3.000000</td>\n      <td>-2.000000</td>\n      <td>14128.000000</td>\n      <td>8.680000</td>\n      <td>0.000000</td>\n    </tr>\n    <tr>\n      <th>25%</th>\n      <td>4999.750000</td>\n      <td>4999.750000</td>\n      <td>29.000000</td>\n      <td>7.000000</td>\n      <td>31596.000000</td>\n      <td>63.720000</td>\n      <td>0.000000</td>\n    </tr>\n    <tr>\n      <th>50%</th>\n      <td>9999.500000</td>\n      <td>9999.500000</td>\n      <td>35.000000</td>\n      <td>9.000000</td>\n      <td>34979.000000</td>\n      <td>75.080000</td>\n      <td>0.000000</td>\n    </tr>\n    <tr>\n      <th>75%</th>\n      <td>14999.250000</td>\n      <td>14999.250000</td>\n      <td>41.000000</td>\n      <td>12.000000</td>\n      <td>38358.000000</td>\n      <td>86.617500</td>\n      <td>0.000000</td>\n    </tr>\n    <tr>\n      <th>max</th>\n      <td>19999.000000</td>\n      <td>19999.000000</td>\n      <td>74.000000</td>\n      <td>23.000000</td>\n      <td>53977.000000</td>\n      <td>143.220000</td>\n      <td>1.000000</td>\n    </tr>\n  </tbody>\n</table>\n</div>"
     },
     "metadata": {}
    }
   ]
  },
  {
   "cell_type": "markdown",
   "source": "Ici, on va filtrer les valeurs aberrantes qu'on peut observer au niveau de l'âge et de l'expérience.",
   "metadata": {
    "tags": [],
    "cell_id": "00013-64dffa4b-4d1e-422d-820a-28b74c408a12",
    "deepnote_cell_type": "markdown"
   }
  },
  {
   "cell_type": "code",
   "metadata": {
    "tags": [],
    "cell_id": "00013-fbc1de1a-c81d-4aa8-837f-f65e55b80f9b",
    "deepnote_to_be_reexecuted": false,
    "source_hash": "af4967b0",
    "execution_start": 1630159892448,
    "execution_millis": 252,
    "deepnote_output_heights": [
     21.1875,
     250
    ],
    "deepnote_cell_type": "code"
   },
   "source": "data.boxplot(column=['age','exp'])",
   "execution_count": null,
   "outputs": [
    {
     "output_type": "execute_result",
     "execution_count": 9,
     "data": {
      "text/plain": "<AxesSubplot:>"
     },
     "metadata": {}
    },
    {
     "data": {
      "text/plain": "<Figure size 432x288 with 1 Axes>",
      "image/png": "[encoded data removed]"
     },
     "metadata": {
      "needs_background": "light",
      "image/png": {
       "width": 368,
       "height": 248
      }
     },
     "output_type": "display_data"
    }
   ]
  },
  {
   "cell_type": "code",
   "metadata": {
    "tags": [],
    "cell_id": "00015-670675ce-042b-4795-89b6-1407589dd7c0",
    "deepnote_to_be_reexecuted": false,
    "source_hash": "a726a620",
    "execution_start": 1630159892743,
    "execution_millis": 6,
    "deepnote_output_heights": [
     1
    ],
    "deepnote_cell_type": "code"
   },
   "source": "#Avant le filtre\ndata.shape",
   "execution_count": null,
   "outputs": [
    {
     "output_type": "execute_result",
     "execution_count": 10,
     "data": {
      "text/plain": "(20000, 13)"
     },
     "metadata": {}
    }
   ]
  },
  {
   "cell_type": "code",
   "metadata": {
    "tags": [],
    "cell_id": "00005-5f3c704d-6fcc-45c2-aa6d-7d77401623ac",
    "deepnote_to_be_reexecuted": false,
    "source_hash": "90fe85d8",
    "execution_start": 1630159892744,
    "execution_millis": 5,
    "deepnote_output_heights": [
     1
    ],
    "deepnote_cell_type": "code"
   },
   "source": "data = data[ (data['age'] > 10) & (data['age'] < 60) & (data['exp'] > 0) & (data['exp'] < 19) ]\ndata.shape # On perd à peu près 600 lignes",
   "execution_count": null,
   "outputs": [
    {
     "output_type": "execute_result",
     "execution_count": 11,
     "data": {
      "text/plain": "(19554, 13)"
     },
     "metadata": {}
    }
   ]
  },
  {
   "cell_type": "code",
   "metadata": {
    "tags": [],
    "cell_id": "00014-7a9ce4cc-9aa9-45d3-b4b6-4c8089bd783f",
    "deepnote_to_be_reexecuted": false,
    "source_hash": "af5b0dfb",
    "execution_start": 1630159892787,
    "execution_millis": 2171,
    "deepnote_output_heights": [
     264,
     266,
     264,
     275
    ],
    "deepnote_cell_type": "code"
   },
   "source": "x = ['exp','note','age','salaire']\n    \nfor i in x:\n    plt.figure(figsize=(7,4))\n    sns.distplot(data[i], hist=True, kde=True)\n    plt.show()",
   "execution_count": null,
   "outputs": [
    {
     "data": {
      "text/plain": "<Figure size 504x288 with 1 Axes>",
      "image/png": "[encoded data removed]"
     },
     "metadata": {
      "needs_background": "light",
      "image/png": {
       "width": 455,
       "height": 262
      }
     },
     "output_type": "display_data"
    },
    {
     "data": {
      "text/plain": "<Figure size 504x288 with 1 Axes>",
      "image/png": "[encoded data removed]"
     },
     "metadata": {
      "needs_background": "light",
      "image/png": {
       "width": 454,
       "height": 264
      }
     },
     "output_type": "display_data"
    },
    {
     "data": {
      "text/plain": "<Figure size 504x288 with 1 Axes>",
      "image/png": "[encoded data removed]"
     },
     "metadata": {
      "needs_background": "light",
      "image/png": {
       "width": 448,
       "height": 262
      }
     },
     "output_type": "display_data"
    },
    {
     "data": {
      "text/plain": "<Figure size 504x288 with 1 Axes>",
      "image/png": "[encoded data removed]"
     },
     "metadata": {
      "needs_background": "light",
      "image/png": {
       "width": 432,
       "height": 273
      }
     },
     "output_type": "display_data"
    }
   ]
  },
  {
   "cell_type": "markdown",
   "source": "### Distribution de la cible (Target)\n",
   "metadata": {
    "tags": [],
    "cell_id": "00015-26144447-4581-4279-9677-73d61c6526e7",
    "deepnote_cell_type": "markdown"
   }
  },
  {
   "cell_type": "code",
   "metadata": {
    "cell_id": "00014-519da17b-094d-4e0a-bd37-e332491d40a1",
    "deepnote_to_be_reexecuted": false,
    "source_hash": "f86400d4",
    "execution_start": 1630159894958,
    "execution_millis": 189,
    "deepnote_output_heights": [
     1,
     264
    ],
    "deepnote_cell_type": "code"
   },
   "source": "sns.countplot(data['embauche'])",
   "execution_count": null,
   "outputs": [
    {
     "output_type": "execute_result",
     "execution_count": 13,
     "data": {
      "text/plain": "<AxesSubplot:xlabel='embauche', ylabel='count'>"
     },
     "metadata": {}
    },
    {
     "data": {
      "text/plain": "<Figure size 432x288 with 1 Axes>",
      "image/png": "[encoded data removed]"
     },
     "metadata": {
      "needs_background": "light",
      "image/png": {
       "width": 401,
       "height": 262
      }
     },
     "output_type": "display_data"
    }
   ]
  },
  {
   "cell_type": "code",
   "metadata": {
    "tags": [],
    "cell_id": "00017-657eebd1-0827-4828-b5b1-8b1430db7234",
    "deepnote_to_be_reexecuted": false,
    "source_hash": "e07e81f2",
    "execution_start": 1630159895195,
    "execution_millis": 32,
    "deepnote_output_heights": [
     1
    ],
    "deepnote_cell_type": "code"
   },
   "source": "data['embauche'].value_counts(normalize=True)",
   "execution_count": null,
   "outputs": [
    {
     "output_type": "execute_result",
     "execution_count": 14,
     "data": {
      "text/plain": "0    0.885394\n1    0.114606\nName: embauche, dtype: float64"
     },
     "metadata": {}
    }
   ]
  },
  {
   "cell_type": "markdown",
   "source": "On remarque qu'on a, pour les 20000 enregistrements:\n<ul>\n<li>89% de recalés\n<li>11% de personnes embauchées\n</ul>",
   "metadata": {
    "tags": [],
    "cell_id": "00017-09f1cb11-a86d-4bc5-bb8b-77fc8c6d7b1c",
    "deepnote_cell_type": "markdown"
   }
  },
  {
   "cell_type": "code",
   "metadata": {
    "tags": [],
    "cell_id": "00024-8d1f7b6c-946e-476c-b11a-6196738b8b99",
    "deepnote_to_be_reexecuted": false,
    "source_hash": "41313cfa",
    "execution_start": 1630159895196,
    "execution_millis": 33,
    "deepnote_cell_type": "code"
   },
   "source": "data.head()",
   "execution_count": null,
   "outputs": [
    {
     "output_type": "execute_result",
     "execution_count": 15,
     "data": {
      "application/vnd.deepnote.dataframe.v2+json": {
       "row_count": 5,
       "column_count": 13,
       "columns": [
        {
         "name": "Unnamed: 0",
         "dtype": "int64",
         "stats": {
          "unique_count": 5,
          "nan_count": 0,
          "min": "0",
          "max": "5",
          "histogram": [
           {
            "bin_start": 0,
            "bin_end": 0.5,
            "count": 1
           },
           {
            "bin_start": 0.5,
            "bin_end": 1,
            "count": 0
           },
           {
            "bin_start": 1,
            "bin_end": 1.5,
            "count": 1
           },
           {
            "bin_start": 1.5,
            "bin_end": 2,
            "count": 0
           },
           {
            "bin_start": 2,
            "bin_end": 2.5,
            "count": 1
           },
           {
            "bin_start": 2.5,
            "bin_end": 3,
            "count": 0
           },
           {
            "bin_start": 3,
            "bin_end": 3.5,
            "count": 0
           },
           {
            "bin_start": 3.5,
            "bin_end": 4,
            "count": 0
           },
           {
            "bin_start": 4,
            "bin_end": 4.5,
            "count": 1
           },
           {
            "bin_start": 4.5,
            "bin_end": 5,
            "count": 1
           }
          ]
         }
        },
        {
         "name": "index",
         "dtype": "int64",
         "stats": {
          "unique_count": 5,
          "nan_count": 0,
          "min": "0",
          "max": "5",
          "histogram": [
           {
            "bin_start": 0,
            "bin_end": 0.5,
            "count": 1
           },
           {
            "bin_start": 0.5,
            "bin_end": 1,
            "count": 0
           },
           {
            "bin_start": 1,
            "bin_end": 1.5,
            "count": 1
           },
           {
            "bin_start": 1.5,
            "bin_end": 2,
            "count": 0
           },
           {
            "bin_start": 2,
            "bin_end": 2.5,
            "count": 1
           },
           {
            "bin_start": 2.5,
            "bin_end": 3,
            "count": 0
           },
           {
            "bin_start": 3,
            "bin_end": 3.5,
            "count": 0
           },
           {
            "bin_start": 3.5,
            "bin_end": 4,
            "count": 0
           },
           {
            "bin_start": 4,
            "bin_end": 4.5,
            "count": 1
           },
           {
            "bin_start": 4.5,
            "bin_end": 5,
            "count": 1
           }
          ]
         }
        },
        {
         "name": "date",
         "dtype": "object",
         "stats": {
          "unique_count": 5,
          "nan_count": 0,
          "categories": [
           {
            "name": "2012-06-02",
            "count": 1
           },
           {
            "name": "2011-04-21",
            "count": 1
           },
           {
            "name": "3 others",
            "count": 3
           }
          ]
         }
        },
        {
         "name": "cheveux",
         "dtype": "object",
         "stats": {
          "unique_count": 3,
          "nan_count": 0,
          "categories": [
           {
            "name": "roux",
            "count": 2
           },
           {
            "name": "blond",
            "count": 2
           },
           {
            "name": "chatain",
            "count": 1
           }
          ]
         }
        },
        {
         "name": "age",
         "dtype": "float64",
         "stats": {
          "unique_count": 4,
          "nan_count": 0,
          "min": "25.0",
          "max": "37.0",
          "histogram": [
           {
            "bin_start": 25,
            "bin_end": 26.2,
            "count": 1
           },
           {
            "bin_start": 26.2,
            "bin_end": 27.4,
            "count": 0
           },
           {
            "bin_start": 27.4,
            "bin_end": 28.6,
            "count": 0
           },
           {
            "bin_start": 28.6,
            "bin_end": 29.8,
            "count": 1
           },
           {
            "bin_start": 29.8,
            "bin_end": 31,
            "count": 0
           },
           {
            "bin_start": 31,
            "bin_end": 32.2,
            "count": 0
           },
           {
            "bin_start": 32.2,
            "bin_end": 33.4,
            "count": 0
           },
           {
            "bin_start": 33.4,
            "bin_end": 34.6,
            "count": 0
           },
           {
            "bin_start": 34.6,
            "bin_end": 35.8,
            "count": 2
           },
           {
            "bin_start": 35.8,
            "bin_end": 37,
            "count": 1
           }
          ]
         }
        },
        {
         "name": "exp",
         "dtype": "float64",
         "stats": {
          "unique_count": 4,
          "nan_count": 0,
          "min": "6.0",
          "max": "13.0",
          "histogram": [
           {
            "bin_start": 6,
            "bin_end": 6.7,
            "count": 1
           },
           {
            "bin_start": 6.7,
            "bin_end": 7.4,
            "count": 0
           },
           {
            "bin_start": 7.4,
            "bin_end": 8.1,
            "count": 1
           },
           {
            "bin_start": 8.1,
            "bin_end": 8.8,
            "count": 0
           },
           {
            "bin_start": 8.8,
            "bin_end": 9.5,
            "count": 1
           },
           {
            "bin_start": 9.5,
            "bin_end": 10.2,
            "count": 0
           },
           {
            "bin_start": 10.2,
            "bin_end": 10.899999999999999,
            "count": 0
           },
           {
            "bin_start": 10.899999999999999,
            "bin_end": 11.6,
            "count": 0
           },
           {
            "bin_start": 11.6,
            "bin_end": 12.3,
            "count": 0
           },
           {
            "bin_start": 12.3,
            "bin_end": 13,
            "count": 2
           }
          ]
         }
        },
        {
         "name": "salaire",
         "dtype": "float64",
         "stats": {
          "unique_count": 5,
          "nan_count": 0,
          "min": "26803.0",
          "max": "38558.0",
          "histogram": [
           {
            "bin_start": 26803,
            "bin_end": 27978.5,
            "count": 1
           },
           {
            "bin_start": 27978.5,
            "bin_end": 29154,
            "count": 1
           },
           {
            "bin_start": 29154,
            "bin_end": 30329.5,
            "count": 0
           },
           {
            "bin_start": 30329.5,
            "bin_end": 31505,
            "count": 0
           },
           {
            "bin_start": 31505,
            "bin_end": 32680.5,
            "count": 0
           },
           {
            "bin_start": 32680.5,
            "bin_end": 33856,
            "count": 0
           },
           {
            "bin_start": 33856,
            "bin_end": 35031.5,
            "count": 0
           },
           {
            "bin_start": 35031.5,
            "bin_end": 36207,
            "count": 1
           },
           {
            "bin_start": 36207,
            "bin_end": 37382.5,
            "count": 0
           },
           {
            "bin_start": 37382.5,
            "bin_end": 38558,
            "count": 2
           }
          ]
         }
        },
        {
         "name": "sexe",
         "dtype": "object",
         "stats": {
          "unique_count": 2,
          "nan_count": 0,
          "categories": [
           {
            "name": "M",
            "count": 3
           },
           {
            "name": "F",
            "count": 2
           }
          ]
         }
        },
        {
         "name": "diplome",
         "dtype": "object",
         "stats": {
          "unique_count": 2,
          "nan_count": 0,
          "categories": [
           {
            "name": "licence",
            "count": 4
           },
           {
            "name": "master",
            "count": 1
           }
          ]
         }
        },
        {
         "name": "specialite",
         "dtype": "object",
         "stats": {
          "unique_count": 3,
          "nan_count": 0,
          "categories": [
           {
            "name": "geologie",
            "count": 3
           },
           {
            "name": "forage",
            "count": 1
           },
           {
            "name": "detective",
            "count": 1
           }
          ]
         }
        },
        {
         "name": "note",
         "dtype": "float64",
         "stats": {
          "unique_count": 5,
          "nan_count": 0,
          "min": "63.46",
          "max": "97.08",
          "histogram": [
           {
            "bin_start": 63.46,
            "bin_end": 66.822,
            "count": 2
           },
           {
            "bin_start": 66.822,
            "bin_end": 70.184,
            "count": 0
           },
           {
            "bin_start": 70.184,
            "bin_end": 73.54599999999999,
            "count": 0
           },
           {
            "bin_start": 73.54599999999999,
            "bin_end": 76.908,
            "count": 0
           },
           {
            "bin_start": 76.908,
            "bin_end": 80.27,
            "count": 1
           },
           {
            "bin_start": 80.27,
            "bin_end": 83.632,
            "count": 1
           },
           {
            "bin_start": 83.632,
            "bin_end": 86.994,
            "count": 0
           },
           {
            "bin_start": 86.994,
            "bin_end": 90.356,
            "count": 0
           },
           {
            "bin_start": 90.356,
            "bin_end": 93.71799999999999,
            "count": 0
           },
           {
            "bin_start": 93.71799999999999,
            "bin_end": 97.08,
            "count": 1
           }
          ]
         }
        },
        {
         "name": "dispo",
         "dtype": "object",
         "stats": {
          "unique_count": 1,
          "nan_count": 0,
          "categories": [
           {
            "name": "non",
            "count": 5
           }
          ]
         }
        },
        {
         "name": "embauche",
         "dtype": "int64",
         "stats": {
          "unique_count": 2,
          "nan_count": 0,
          "min": "0",
          "max": "1",
          "histogram": [
           {
            "bin_start": 0,
            "bin_end": 0.1,
            "count": 4
           },
           {
            "bin_start": 0.1,
            "bin_end": 0.2,
            "count": 0
           },
           {
            "bin_start": 0.2,
            "bin_end": 0.30000000000000004,
            "count": 0
           },
           {
            "bin_start": 0.30000000000000004,
            "bin_end": 0.4,
            "count": 0
           },
           {
            "bin_start": 0.4,
            "bin_end": 0.5,
            "count": 0
           },
           {
            "bin_start": 0.5,
            "bin_end": 0.6000000000000001,
            "count": 0
           },
           {
            "bin_start": 0.6000000000000001,
            "bin_end": 0.7000000000000001,
            "count": 0
           },
           {
            "bin_start": 0.7000000000000001,
            "bin_end": 0.8,
            "count": 0
           },
           {
            "bin_start": 0.8,
            "bin_end": 0.9,
            "count": 0
           },
           {
            "bin_start": 0.9,
            "bin_end": 1,
            "count": 1
           }
          ]
         }
        },
        {
         "name": "_deepnote_index_column",
         "dtype": "int64"
        }
       ],
       "rows_top": [
        {
         "Unnamed: 0": 0,
         "index": 0,
         "date": "2012-06-02",
         "cheveux": "roux",
         "age": 25,
         "exp": 9,
         "salaire": 26803,
         "sexe": "F",
         "diplome": "licence",
         "specialite": "geologie",
         "note": 97.08,
         "dispo": "non",
         "embauche": 0,
         "_deepnote_index_column": 0
        },
        {
         "Unnamed: 0": 1,
         "index": 1,
         "date": "2011-04-21",
         "cheveux": "blond",
         "age": 35,
         "exp": 13,
         "salaire": 38166,
         "sexe": "M",
         "diplome": "licence",
         "specialite": "forage",
         "note": 63.86,
         "dispo": "non",
         "embauche": 0,
         "_deepnote_index_column": 1
        },
        {
         "Unnamed: 0": 2,
         "index": 2,
         "date": "2012-09-07",
         "cheveux": "blond",
         "age": 29,
         "exp": 13,
         "salaire": 35207,
         "sexe": "M",
         "diplome": "licence",
         "specialite": "geologie",
         "note": 78.5,
         "dispo": "non",
         "embauche": 0,
         "_deepnote_index_column": 2
        },
        {
         "Unnamed: 0": 4,
         "index": 4,
         "date": "2012-08-07",
         "cheveux": "roux",
         "age": 35,
         "exp": 6,
         "salaire": 28533,
         "sexe": "F",
         "diplome": "licence",
         "specialite": "detective",
         "note": 81.91,
         "dispo": "non",
         "embauche": 0,
         "_deepnote_index_column": 4
        },
        {
         "Unnamed: 0": 5,
         "index": 5,
         "date": "2014-02-12",
         "cheveux": "chatain",
         "age": 37,
         "exp": 8,
         "salaire": 38558,
         "sexe": "M",
         "diplome": "master",
         "specialite": "geologie",
         "note": 63.46,
         "dispo": "non",
         "embauche": 1,
         "_deepnote_index_column": 5
        }
       ],
       "rows_bottom": null
      },
      "text/plain": "   Unnamed: 0  index        date  cheveux   age   exp  salaire sexe  diplome  \\\n0           0      0  2012-06-02     roux  25.0   9.0  26803.0    F  licence   \n1           1      1  2011-04-21    blond  35.0  13.0  38166.0    M  licence   \n2           2      2  2012-09-07    blond  29.0  13.0  35207.0    M  licence   \n4           4      4  2012-08-07     roux  35.0   6.0  28533.0    F  licence   \n5           5      5  2014-02-12  chatain  37.0   8.0  38558.0    M   master   \n\n  specialite   note dispo  embauche  \n0   geologie  97.08   non         0  \n1     forage  63.86   non         0  \n2   geologie  78.50   non         0  \n4  detective  81.91   non         0  \n5   geologie  63.46   non         1  ",
      "text/html": "<div>\n<style scoped>\n    .dataframe tbody tr th:only-of-type {\n        vertical-align: middle;\n    }\n\n    .dataframe tbody tr th {\n        vertical-align: top;\n    }\n\n    .dataframe thead th {\n        text-align: right;\n    }\n</style>\n<table border=\"1\" class=\"dataframe\">\n  <thead>\n    <tr style=\"text-align: right;\">\n      <th></th>\n      <th>Unnamed: 0</th>\n      <th>index</th>\n      <th>date</th>\n      <th>cheveux</th>\n      <th>age</th>\n      <th>exp</th>\n      <th>salaire</th>\n      <th>sexe</th>\n      <th>diplome</th>\n      <th>specialite</th>\n      <th>note</th>\n      <th>dispo</th>\n      <th>embauche</th>\n    </tr>\n  </thead>\n  <tbody>\n    <tr>\n      <th>0</th>\n      <td>0</td>\n      <td>0</td>\n      <td>2012-06-02</td>\n      <td>roux</td>\n      <td>25.0</td>\n      <td>9.0</td>\n      <td>26803.0</td>\n      <td>F</td>\n      <td>licence</td>\n      <td>geologie</td>\n      <td>97.08</td>\n      <td>non</td>\n      <td>0</td>\n    </tr>\n    <tr>\n      <th>1</th>\n      <td>1</td>\n      <td>1</td>\n      <td>2011-04-21</td>\n      <td>blond</td>\n      <td>35.0</td>\n      <td>13.0</td>\n      <td>38166.0</td>\n      <td>M</td>\n      <td>licence</td>\n      <td>forage</td>\n      <td>63.86</td>\n      <td>non</td>\n      <td>0</td>\n    </tr>\n    <tr>\n      <th>2</th>\n      <td>2</td>\n      <td>2</td>\n      <td>2012-09-07</td>\n      <td>blond</td>\n      <td>29.0</td>\n      <td>13.0</td>\n      <td>35207.0</td>\n      <td>M</td>\n      <td>licence</td>\n      <td>geologie</td>\n      <td>78.50</td>\n      <td>non</td>\n      <td>0</td>\n    </tr>\n    <tr>\n      <th>4</th>\n      <td>4</td>\n      <td>4</td>\n      <td>2012-08-07</td>\n      <td>roux</td>\n      <td>35.0</td>\n      <td>6.0</td>\n      <td>28533.0</td>\n      <td>F</td>\n      <td>licence</td>\n      <td>detective</td>\n      <td>81.91</td>\n      <td>non</td>\n      <td>0</td>\n    </tr>\n    <tr>\n      <th>5</th>\n      <td>5</td>\n      <td>5</td>\n      <td>2014-02-12</td>\n      <td>chatain</td>\n      <td>37.0</td>\n      <td>8.0</td>\n      <td>38558.0</td>\n      <td>M</td>\n      <td>master</td>\n      <td>geologie</td>\n      <td>63.46</td>\n      <td>non</td>\n      <td>1</td>\n    </tr>\n  </tbody>\n</table>\n</div>"
     },
     "metadata": {}
    }
   ]
  },
  {
   "cell_type": "markdown",
   "source": "",
   "metadata": {
    "tags": [],
    "cell_id": "00019-15e26e44-97d4-4275-8a63-fd2d9c012b43",
    "deepnote_cell_type": "markdown"
   }
  },
  {
   "cell_type": "markdown",
   "source": "Comme pré-traitement, on va:\n<ul>\n<li> Créer des classes d'âge et de salaire pour améliorer le futur apprentissage\n<li> Traiter les valeurs manquantes dans les champs en imputant les <b>medianes</b> aux variables continues et les <b>modes</b> aux variables catégorielles\n</ul>",
   "metadata": {
    "tags": [],
    "cell_id": "00014-0f4f32f6-58df-4a4a-aea4-f8e55dcaa285",
    "deepnote_cell_type": "markdown"
   }
  },
  {
   "cell_type": "markdown",
   "source": "### Création des classes d'âge et salaire",
   "metadata": {
    "tags": [],
    "cell_id": "00016-491971fa-8c7d-4723-adb6-23fc608c0522",
    "deepnote_cell_type": "markdown"
   }
  },
  {
   "cell_type": "code",
   "metadata": {
    "cell_id": "00009-8bb6772b-30c2-49fe-b133-fd966018e655",
    "deepnote_to_be_reexecuted": false,
    "source_hash": "c62901cd",
    "execution_start": 1630159895217,
    "execution_millis": 4,
    "deepnote_cell_type": "code"
   },
   "source": "data['salaire'] = pd.cut(x=data['salaire'], bins=[0,30000,35000,40000,70000])\ndata['age'] = pd.cut(x=data['age'], bins=[0,30,40,50,70])",
   "execution_count": null,
   "outputs": []
  },
  {
   "cell_type": "markdown",
   "source": "### Traitement des valeurs manquantes",
   "metadata": {
    "tags": [],
    "cell_id": "00018-b1776a32-cc70-40c8-ad14-ba245ede7867",
    "deepnote_cell_type": "markdown"
   }
  },
  {
   "cell_type": "code",
   "metadata": {
    "tags": [],
    "cell_id": "00019-4d058ff7-4490-499b-a27d-223465719598",
    "deepnote_to_be_reexecuted": false,
    "source_hash": "17f989c2",
    "execution_start": 1630159895224,
    "execution_millis": 24,
    "deepnote_cell_type": "code"
   },
   "source": "# Variable continue --> Moyenne / Mediane\ndata['exp'] = data['exp'].fillna(data['exp'].median())\ndata['note'] = data['note'].fillna(data['note'].median())\n\n#Variable categorielle --> Mode\ndata['diplome'] = data['diplome'].fillna(data['diplome'].mode().iloc[0])\ndata['sexe'] = data['sexe'].fillna(data['sexe'].mode().iloc[0])\ndata['cheveux'] = data['cheveux'].fillna(data['cheveux'].mode().iloc[0])\ndata['specialite'] = data['specialite'].fillna(data['specialite'].mode().iloc[0])\ndata['dispo'] = data['dispo'].fillna(data['dispo'].mode().iloc[0])\ndata['age'] = data['age'].fillna(data['age'].mode().iloc[0])\ndata['salaire'] = data['salaire'].fillna(data['salaire'].mode().iloc[0])",
   "execution_count": null,
   "outputs": []
  },
  {
   "cell_type": "code",
   "metadata": {
    "tags": [],
    "cell_id": "00020-d1e86023-4915-4669-ba3c-eb2493c3ba6d",
    "deepnote_to_be_reexecuted": false,
    "source_hash": "ac2afeca",
    "execution_start": 1630159895299,
    "execution_millis": 7,
    "deepnote_output_heights": [
     1
    ],
    "deepnote_cell_type": "code"
   },
   "source": "# Verification des valeurs manquantes\ndata.isna().sum()",
   "execution_count": null,
   "outputs": [
    {
     "output_type": "execute_result",
     "execution_count": 18,
     "data": {
      "text/plain": "Unnamed: 0     0\nindex          0\ndate          89\ncheveux        0\nage            0\nexp            0\nsalaire        0\nsexe           0\ndiplome        0\nspecialite     0\nnote           0\ndispo          0\nembauche       0\ndtype: int64"
     },
     "metadata": {}
    }
   ]
  },
  {
   "cell_type": "markdown",
   "source": "### Normalisation des notes",
   "metadata": {
    "tags": [],
    "cell_id": "00031-d5491b2e-8164-4e8d-9ae1-6aeafe6fc71c",
    "deepnote_cell_type": "markdown"
   }
  },
  {
   "cell_type": "code",
   "metadata": {
    "tags": [],
    "cell_id": "00023-6b301626-0f5f-42eb-942f-993bfdf45c1d",
    "deepnote_to_be_reexecuted": false,
    "source_hash": "75c8a17e",
    "execution_start": 1630159895300,
    "execution_millis": 1,
    "deepnote_cell_type": "code"
   },
   "source": "std = data['note'].std()\nmean = data['note'].mean()\ndata['note_norm'] = (data['note'] - mean)/std",
   "execution_count": null,
   "outputs": []
  },
  {
   "cell_type": "markdown",
   "source": "### Variables les plus pertinentes",
   "metadata": {
    "tags": [],
    "cell_id": "00026-3a13b12b-9147-405b-a2d1-4213bd44462f",
    "deepnote_cell_type": "markdown"
   }
  },
  {
   "cell_type": "markdown",
   "source": "Dans le cadre de notre exercice, les variables les plus pertinentes pour la construction de notre modèle prédicitif sont: l'âge, le diplome, la specialite, le salaire demande, la disponibilite, le sexe, le nombre d'années d'expérience et la note ",
   "metadata": {
    "tags": [],
    "cell_id": "00015-d2e9a356-1862-4722-b2d0-b1c01e9a6b0f",
    "deepnote_cell_type": "markdown"
   }
  },
  {
   "cell_type": "markdown",
   "source": "## Dépendances statistiques ",
   "metadata": {
    "cell_id": "00010-f5fab5dc-54a0-4871-93df-3fb557629b0e",
    "deepnote_cell_type": "markdown"
   }
  },
  {
   "cell_type": "code",
   "metadata": {
    "cell_id": "00011-60068ea7-c0a1-493c-b8cf-d648b8d9c8d5",
    "deepnote_to_be_reexecuted": false,
    "source_hash": "73a757f5",
    "execution_start": 1630159895301,
    "execution_millis": 310,
    "deepnote_output_heights": [
     482
    ],
    "deepnote_cell_type": "code"
   },
   "source": "x = data['specialite']\ny = data['sexe']\nplt.figure(figsize=(10,8)) \ncontigency=pd.crosstab(x, y,normalize='index')\nsns.heatmap(contigency,annot=True)\nplt.show()",
   "execution_count": null,
   "outputs": [
    {
     "data": {
      "text/plain": "<Figure size 720x576 with 2 Axes>",
      "image/png": "[encoded data removed]"
     },
     "metadata": {
      "needs_background": "light",
      "image/png": {
       "width": 564,
       "height": 480
      }
     },
     "output_type": "display_data"
    }
   ]
  },
  {
   "cell_type": "code",
   "metadata": {
    "cell_id": "00015-2857e693-ff2f-4524-8fa3-04595dce2af8",
    "deepnote_to_be_reexecuted": false,
    "source_hash": "32170a43",
    "allow_embed": false,
    "execution_start": 1630159895608,
    "execution_millis": 41,
    "deepnote_cell_type": "code"
   },
   "source": "contigency",
   "execution_count": null,
   "outputs": [
    {
     "output_type": "execute_result",
     "execution_count": 21,
     "data": {
      "application/vnd.deepnote.dataframe.v2+json": {
       "row_count": 4,
       "column_count": 2,
       "columns": [
        {
         "name": "F",
         "dtype": "float64",
         "stats": {
          "unique_count": 4,
          "nan_count": 0,
          "min": "0.24057414333367028",
          "max": "0.7821270310192023",
          "histogram": [
           {
            "bin_start": 0.24057414333367028,
            "bin_end": 0.29472943210222347,
            "count": 1
           },
           {
            "bin_start": 0.29472943210222347,
            "bin_end": 0.3488847208707767,
            "count": 0
           },
           {
            "bin_start": 0.3488847208707767,
            "bin_end": 0.4030400096393299,
            "count": 0
           },
           {
            "bin_start": 0.4030400096393299,
            "bin_end": 0.4571952984078831,
            "count": 1
           },
           {
            "bin_start": 0.4571952984078831,
            "bin_end": 0.5113505871764363,
            "count": 0
           },
           {
            "bin_start": 0.5113505871764363,
            "bin_end": 0.5655058759449896,
            "count": 0
           },
           {
            "bin_start": 0.5655058759449896,
            "bin_end": 0.6196611647135427,
            "count": 1
           },
           {
            "bin_start": 0.6196611647135427,
            "bin_end": 0.6738164534820958,
            "count": 0
           },
           {
            "bin_start": 0.6738164534820958,
            "bin_end": 0.7279717422506491,
            "count": 0
           },
           {
            "bin_start": 0.7279717422506491,
            "bin_end": 0.7821270310192023,
            "count": 1
           }
          ]
         }
        },
        {
         "name": "M",
         "dtype": "float64",
         "stats": {
          "unique_count": 4,
          "nan_count": 0,
          "min": "0.21787296898079764",
          "max": "0.7594258566663298",
          "histogram": [
           {
            "bin_start": 0.21787296898079764,
            "bin_end": 0.27202825774935085,
            "count": 1
           },
           {
            "bin_start": 0.27202825774935085,
            "bin_end": 0.32618354651790404,
            "count": 0
           },
           {
            "bin_start": 0.32618354651790404,
            "bin_end": 0.3803388352864573,
            "count": 0
           },
           {
            "bin_start": 0.3803388352864573,
            "bin_end": 0.4344941240550105,
            "count": 1
           },
           {
            "bin_start": 0.4344941240550105,
            "bin_end": 0.48864941282356367,
            "count": 0
           },
           {
            "bin_start": 0.48864941282356367,
            "bin_end": 0.5428047015921169,
            "count": 0
           },
           {
            "bin_start": 0.5428047015921169,
            "bin_end": 0.5969599903606702,
            "count": 1
           },
           {
            "bin_start": 0.5969599903606702,
            "bin_end": 0.6511152791292233,
            "count": 0
           },
           {
            "bin_start": 0.6511152791292233,
            "bin_end": 0.7052705678977765,
            "count": 0
           },
           {
            "bin_start": 0.7052705678977765,
            "bin_end": 0.7594258566663298,
            "count": 1
           }
          ]
         }
        },
        {
         "name": "_deepnote_index_column",
         "dtype": "object"
        }
       ],
       "rows_top": [
        {
         "F": 0.7821270310192023,
         "M": 0.21787296898079764,
         "_deepnote_index_column": "archeologie"
        },
        {
         "F": 0.6081813701330705,
         "M": 0.3918186298669295,
         "_deepnote_index_column": "detective"
        },
        {
         "F": 0.4521063779712874,
         "M": 0.5478936220287126,
         "_deepnote_index_column": "forage"
        },
        {
         "F": 0.24057414333367028,
         "M": 0.7594258566663298,
         "_deepnote_index_column": "geologie"
        }
       ],
       "rows_bottom": null
      },
      "text/plain": "sexe                F         M\nspecialite                     \narcheologie  0.782127  0.217873\ndetective    0.608181  0.391819\nforage       0.452106  0.547894\ngeologie     0.240574  0.759426",
      "text/html": "<div>\n<style scoped>\n    .dataframe tbody tr th:only-of-type {\n        vertical-align: middle;\n    }\n\n    .dataframe tbody tr th {\n        vertical-align: top;\n    }\n\n    .dataframe thead th {\n        text-align: right;\n    }\n</style>\n<table border=\"1\" class=\"dataframe\">\n  <thead>\n    <tr style=\"text-align: right;\">\n      <th>sexe</th>\n      <th>F</th>\n      <th>M</th>\n    </tr>\n    <tr>\n      <th>specialite</th>\n      <th></th>\n      <th></th>\n    </tr>\n  </thead>\n  <tbody>\n    <tr>\n      <th>archeologie</th>\n      <td>0.782127</td>\n      <td>0.217873</td>\n    </tr>\n    <tr>\n      <th>detective</th>\n      <td>0.608181</td>\n      <td>0.391819</td>\n    </tr>\n    <tr>\n      <th>forage</th>\n      <td>0.452106</td>\n      <td>0.547894</td>\n    </tr>\n    <tr>\n      <th>geologie</th>\n      <td>0.240574</td>\n      <td>0.759426</td>\n    </tr>\n  </tbody>\n</table>\n</div>"
     },
     "metadata": {}
    }
   ]
  },
  {
   "cell_type": "code",
   "metadata": {
    "tags": [],
    "cell_id": "00016-bb1626d3-49a3-4c52-8eb7-f99e9508aeb0",
    "deepnote_to_be_reexecuted": false,
    "source_hash": "e053344c",
    "execution_start": 1630159895636,
    "execution_millis": 16,
    "deepnote_cell_type": "code"
   },
   "source": "c, p, dof, expected = chi2_contingency(contigency) \n# Print the p-value\nprint(p)",
   "execution_count": null,
   "outputs": [
    {
     "name": "stdout",
     "text": "0.8877295847888335\n",
     "output_type": "stream"
    }
   ]
  },
  {
   "cell_type": "markdown",
   "source": "Ici p=0.89, donc les variables spécialité et sexe sont indépendantes.",
   "metadata": {
    "tags": [],
    "cell_id": "00019-4c1fbc79-052d-4e0c-879a-d4108e16ced5",
    "deepnote_cell_type": "markdown"
   }
  },
  {
   "cell_type": "code",
   "metadata": {
    "cell_id": "00010-8d9bcc3e-6981-4e27-8eff-f5bf104729f3",
    "deepnote_to_be_reexecuted": false,
    "source_hash": "d0dd5ca4",
    "allow_embed": false,
    "execution_start": 1630159895644,
    "execution_millis": 41,
    "deepnote_cell_type": "code"
   },
   "source": "x2 = data['cheveux']\ny2 = data['salaire']\ncontigency2 = pd.crosstab(x2, y2,normalize='index')\n\nc, p, dof, expected = chi2_contingency(contigency2) \n# Print the p-value\nprint(p)",
   "execution_count": null,
   "outputs": [
    {
     "name": "stdout",
     "text": "0.9999999999820827\n",
     "output_type": "stream"
    }
   ]
  },
  {
   "cell_type": "markdown",
   "source": "Ici p=0.99, donc les variables couleurs des cheveux et salaires sont indépendantes.",
   "metadata": {
    "tags": [],
    "cell_id": "00018-3d5bcc4d-1933-4cf5-a101-dd1f9f0e69f1",
    "deepnote_cell_type": "markdown"
   }
  },
  {
   "cell_type": "code",
   "metadata": {
    "tags": [],
    "cell_id": "00019-64332b25-03ec-464c-92ce-ca09849bb713",
    "deepnote_to_be_reexecuted": false,
    "source_hash": "1cfb68a2",
    "execution_start": 1630159895681,
    "execution_millis": 2622,
    "deepnote_cell_type": "code"
   },
   "source": "x3 = data['exp']\ny3 = data['note']\ncontigency3 = pd.crosstab(x3, y3,normalize='index')\n\nc, p, dof, expected = chi2_contingency(contigency3)\n# Print the p-value\nprint(p)",
   "execution_count": null,
   "outputs": [
    {
     "name": "stdout",
     "text": "1.0\n",
     "output_type": "stream"
    }
   ]
  },
  {
   "cell_type": "markdown",
   "source": "Ici p=1, donc les variables experience et note à l'examen sont indépendantes.",
   "metadata": {
    "tags": [],
    "cell_id": "00020-5cdb907f-8760-4e2d-9191-d77c5dd9b583",
    "deepnote_cell_type": "markdown"
   }
  },
  {
   "cell_type": "code",
   "metadata": {
    "tags": [],
    "cell_id": "00029-4c7cdd47-8f76-4f22-9033-2b9f0cb4ed61",
    "deepnote_to_be_reexecuted": false,
    "source_hash": "4f11ed53",
    "execution_start": 1630159898335,
    "execution_millis": 7,
    "deepnote_cell_type": "code"
   },
   "source": "x4 = data['embauche']\ny4 = data['sexe']\ncontigency4 = pd.crosstab(x4, y4,normalize='index')\n\nc, p, dof, expected = chi2_contingency(contigency4)\n# Print the p-value\nprint(p)",
   "execution_count": null,
   "outputs": [
    {
     "name": "stdout",
     "text": "1.0\n",
     "output_type": "stream"
    }
   ]
  },
  {
   "cell_type": "markdown",
   "source": "## Creation de la target et des features",
   "metadata": {
    "tags": [],
    "cell_id": "00039-5fe5b6a8-e311-4c1e-86aa-e58f4b404fcb",
    "deepnote_cell_type": "markdown"
   }
  },
  {
   "cell_type": "code",
   "metadata": {
    "tags": [],
    "cell_id": "00040-ff1d4c4d-2345-4eb8-94e3-304c1571db2f",
    "deepnote_to_be_reexecuted": false,
    "source_hash": "3826bcd",
    "execution_start": 1630159898336,
    "execution_millis": 0,
    "deepnote_cell_type": "code"
   },
   "source": "TARGET = 'embauche'\nCATEGORICALS = ['dispo', 'diplome','specialite','age','salaire']\nNUMERICALS = ['note_norm']\nFEATURES = CATEGORICALS + NUMERICALS",
   "execution_count": null,
   "outputs": []
  },
  {
   "cell_type": "code",
   "metadata": {
    "tags": [],
    "cell_id": "00041-cd27d87b-60bd-4b51-a808-72440f077127",
    "deepnote_to_be_reexecuted": false,
    "source_hash": "db9c16e5",
    "execution_start": 1630159898336,
    "execution_millis": 43,
    "deepnote_cell_type": "code"
   },
   "source": "# Transformation en variables binaires\ndata_dummies = pd.get_dummies(data[CATEGORICALS].astype('category'))\nCATEGORICALS = data_dummies.columns\n\ndata[CATEGORICALS] = data_dummies[CATEGORICALS]",
   "execution_count": null,
   "outputs": []
  },
  {
   "cell_type": "code",
   "metadata": {
    "tags": [],
    "cell_id": "00042-08dbccb2-49d6-4640-b39d-0782cc560b62",
    "deepnote_to_be_reexecuted": false,
    "source_hash": "6727ae52",
    "execution_start": 1630159898379,
    "execution_millis": 29,
    "deepnote_cell_type": "code"
   },
   "source": "data[CATEGORICALS].head()",
   "execution_count": null,
   "outputs": [
    {
     "output_type": "execute_result",
     "execution_count": 28,
     "data": {
      "application/vnd.deepnote.dataframe.v2+json": {
       "row_count": 5,
       "column_count": 18,
       "columns": [
        {
         "name": "dispo_non",
         "dtype": "uint8",
         "stats": {
          "unique_count": 1,
          "nan_count": 0,
          "min": "1",
          "max": "1",
          "histogram": [
           {
            "bin_start": 0.5,
            "bin_end": 0.6,
            "count": 0
           },
           {
            "bin_start": 0.6,
            "bin_end": 0.7,
            "count": 0
           },
           {
            "bin_start": 0.7,
            "bin_end": 0.8,
            "count": 0
           },
           {
            "bin_start": 0.8,
            "bin_end": 0.9,
            "count": 0
           },
           {
            "bin_start": 0.9,
            "bin_end": 1,
            "count": 0
           },
           {
            "bin_start": 1,
            "bin_end": 1.1,
            "count": 5
           },
           {
            "bin_start": 1.1,
            "bin_end": 1.2000000000000002,
            "count": 0
           },
           {
            "bin_start": 1.2000000000000002,
            "bin_end": 1.3,
            "count": 0
           },
           {
            "bin_start": 1.3,
            "bin_end": 1.4,
            "count": 0
           },
           {
            "bin_start": 1.4,
            "bin_end": 1.5,
            "count": 0
           }
          ]
         }
        },
        {
         "name": "dispo_oui",
         "dtype": "uint8",
         "stats": {
          "unique_count": 1,
          "nan_count": 0,
          "min": "0",
          "max": "0",
          "histogram": [
           {
            "bin_start": -0.5,
            "bin_end": -0.4,
            "count": 0
           },
           {
            "bin_start": -0.4,
            "bin_end": -0.3,
            "count": 0
           },
           {
            "bin_start": -0.3,
            "bin_end": -0.19999999999999996,
            "count": 0
           },
           {
            "bin_start": -0.19999999999999996,
            "bin_end": -0.09999999999999998,
            "count": 0
           },
           {
            "bin_start": -0.09999999999999998,
            "bin_end": 0,
            "count": 0
           },
           {
            "bin_start": 0,
            "bin_end": 0.10000000000000009,
            "count": 5
           },
           {
            "bin_start": 0.10000000000000009,
            "bin_end": 0.20000000000000007,
            "count": 0
           },
           {
            "bin_start": 0.20000000000000007,
            "bin_end": 0.30000000000000004,
            "count": 0
           },
           {
            "bin_start": 0.30000000000000004,
            "bin_end": 0.4,
            "count": 0
           },
           {
            "bin_start": 0.4,
            "bin_end": 0.5,
            "count": 0
           }
          ]
         }
        },
        {
         "name": "diplome_bac",
         "dtype": "uint8",
         "stats": {
          "unique_count": 1,
          "nan_count": 0,
          "min": "0",
          "max": "0",
          "histogram": [
           {
            "bin_start": -0.5,
            "bin_end": -0.4,
            "count": 0
           },
           {
            "bin_start": -0.4,
            "bin_end": -0.3,
            "count": 0
           },
           {
            "bin_start": -0.3,
            "bin_end": -0.19999999999999996,
            "count": 0
           },
           {
            "bin_start": -0.19999999999999996,
            "bin_end": -0.09999999999999998,
            "count": 0
           },
           {
            "bin_start": -0.09999999999999998,
            "bin_end": 0,
            "count": 0
           },
           {
            "bin_start": 0,
            "bin_end": 0.10000000000000009,
            "count": 5
           },
           {
            "bin_start": 0.10000000000000009,
            "bin_end": 0.20000000000000007,
            "count": 0
           },
           {
            "bin_start": 0.20000000000000007,
            "bin_end": 0.30000000000000004,
            "count": 0
           },
           {
            "bin_start": 0.30000000000000004,
            "bin_end": 0.4,
            "count": 0
           },
           {
            "bin_start": 0.4,
            "bin_end": 0.5,
            "count": 0
           }
          ]
         }
        },
        {
         "name": "diplome_doctorat",
         "dtype": "uint8",
         "stats": {
          "unique_count": 1,
          "nan_count": 0,
          "min": "0",
          "max": "0",
          "histogram": [
           {
            "bin_start": -0.5,
            "bin_end": -0.4,
            "count": 0
           },
           {
            "bin_start": -0.4,
            "bin_end": -0.3,
            "count": 0
           },
           {
            "bin_start": -0.3,
            "bin_end": -0.19999999999999996,
            "count": 0
           },
           {
            "bin_start": -0.19999999999999996,
            "bin_end": -0.09999999999999998,
            "count": 0
           },
           {
            "bin_start": -0.09999999999999998,
            "bin_end": 0,
            "count": 0
           },
           {
            "bin_start": 0,
            "bin_end": 0.10000000000000009,
            "count": 5
           },
           {
            "bin_start": 0.10000000000000009,
            "bin_end": 0.20000000000000007,
            "count": 0
           },
           {
            "bin_start": 0.20000000000000007,
            "bin_end": 0.30000000000000004,
            "count": 0
           },
           {
            "bin_start": 0.30000000000000004,
            "bin_end": 0.4,
            "count": 0
           },
           {
            "bin_start": 0.4,
            "bin_end": 0.5,
            "count": 0
           }
          ]
         }
        },
        {
         "name": "diplome_licence",
         "dtype": "uint8",
         "stats": {
          "unique_count": 2,
          "nan_count": 0,
          "min": "0",
          "max": "1",
          "histogram": [
           {
            "bin_start": 0,
            "bin_end": 0.1,
            "count": 1
           },
           {
            "bin_start": 0.1,
            "bin_end": 0.2,
            "count": 0
           },
           {
            "bin_start": 0.2,
            "bin_end": 0.30000000000000004,
            "count": 0
           },
           {
            "bin_start": 0.30000000000000004,
            "bin_end": 0.4,
            "count": 0
           },
           {
            "bin_start": 0.4,
            "bin_end": 0.5,
            "count": 0
           },
           {
            "bin_start": 0.5,
            "bin_end": 0.6000000000000001,
            "count": 0
           },
           {
            "bin_start": 0.6000000000000001,
            "bin_end": 0.7000000000000001,
            "count": 0
           },
           {
            "bin_start": 0.7000000000000001,
            "bin_end": 0.8,
            "count": 0
           },
           {
            "bin_start": 0.8,
            "bin_end": 0.9,
            "count": 0
           },
           {
            "bin_start": 0.9,
            "bin_end": 1,
            "count": 4
           }
          ]
         }
        },
        {
         "name": "diplome_master",
         "dtype": "uint8",
         "stats": {
          "unique_count": 2,
          "nan_count": 0,
          "min": "0",
          "max": "1",
          "histogram": [
           {
            "bin_start": 0,
            "bin_end": 0.1,
            "count": 4
           },
           {
            "bin_start": 0.1,
            "bin_end": 0.2,
            "count": 0
           },
           {
            "bin_start": 0.2,
            "bin_end": 0.30000000000000004,
            "count": 0
           },
           {
            "bin_start": 0.30000000000000004,
            "bin_end": 0.4,
            "count": 0
           },
           {
            "bin_start": 0.4,
            "bin_end": 0.5,
            "count": 0
           },
           {
            "bin_start": 0.5,
            "bin_end": 0.6000000000000001,
            "count": 0
           },
           {
            "bin_start": 0.6000000000000001,
            "bin_end": 0.7000000000000001,
            "count": 0
           },
           {
            "bin_start": 0.7000000000000001,
            "bin_end": 0.8,
            "count": 0
           },
           {
            "bin_start": 0.8,
            "bin_end": 0.9,
            "count": 0
           },
           {
            "bin_start": 0.9,
            "bin_end": 1,
            "count": 1
           }
          ]
         }
        },
        {
         "name": "specialite_archeologie",
         "dtype": "uint8",
         "stats": {
          "unique_count": 1,
          "nan_count": 0,
          "min": "0",
          "max": "0",
          "histogram": [
           {
            "bin_start": -0.5,
            "bin_end": -0.4,
            "count": 0
           },
           {
            "bin_start": -0.4,
            "bin_end": -0.3,
            "count": 0
           },
           {
            "bin_start": -0.3,
            "bin_end": -0.19999999999999996,
            "count": 0
           },
           {
            "bin_start": -0.19999999999999996,
            "bin_end": -0.09999999999999998,
            "count": 0
           },
           {
            "bin_start": -0.09999999999999998,
            "bin_end": 0,
            "count": 0
           },
           {
            "bin_start": 0,
            "bin_end": 0.10000000000000009,
            "count": 5
           },
           {
            "bin_start": 0.10000000000000009,
            "bin_end": 0.20000000000000007,
            "count": 0
           },
           {
            "bin_start": 0.20000000000000007,
            "bin_end": 0.30000000000000004,
            "count": 0
           },
           {
            "bin_start": 0.30000000000000004,
            "bin_end": 0.4,
            "count": 0
           },
           {
            "bin_start": 0.4,
            "bin_end": 0.5,
            "count": 0
           }
          ]
         }
        },
        {
         "name": "specialite_detective",
         "dtype": "uint8",
         "stats": {
          "unique_count": 2,
          "nan_count": 0,
          "min": "0",
          "max": "1",
          "histogram": [
           {
            "bin_start": 0,
            "bin_end": 0.1,
            "count": 4
           },
           {
            "bin_start": 0.1,
            "bin_end": 0.2,
            "count": 0
           },
           {
            "bin_start": 0.2,
            "bin_end": 0.30000000000000004,
            "count": 0
           },
           {
            "bin_start": 0.30000000000000004,
            "bin_end": 0.4,
            "count": 0
           },
           {
            "bin_start": 0.4,
            "bin_end": 0.5,
            "count": 0
           },
           {
            "bin_start": 0.5,
            "bin_end": 0.6000000000000001,
            "count": 0
           },
           {
            "bin_start": 0.6000000000000001,
            "bin_end": 0.7000000000000001,
            "count": 0
           },
           {
            "bin_start": 0.7000000000000001,
            "bin_end": 0.8,
            "count": 0
           },
           {
            "bin_start": 0.8,
            "bin_end": 0.9,
            "count": 0
           },
           {
            "bin_start": 0.9,
            "bin_end": 1,
            "count": 1
           }
          ]
         }
        },
        {
         "name": "specialite_forage",
         "dtype": "uint8",
         "stats": {
          "unique_count": 2,
          "nan_count": 0,
          "min": "0",
          "max": "1",
          "histogram": [
           {
            "bin_start": 0,
            "bin_end": 0.1,
            "count": 4
           },
           {
            "bin_start": 0.1,
            "bin_end": 0.2,
            "count": 0
           },
           {
            "bin_start": 0.2,
            "bin_end": 0.30000000000000004,
            "count": 0
           },
           {
            "bin_start": 0.30000000000000004,
            "bin_end": 0.4,
            "count": 0
           },
           {
            "bin_start": 0.4,
            "bin_end": 0.5,
            "count": 0
           },
           {
            "bin_start": 0.5,
            "bin_end": 0.6000000000000001,
            "count": 0
           },
           {
            "bin_start": 0.6000000000000001,
            "bin_end": 0.7000000000000001,
            "count": 0
           },
           {
            "bin_start": 0.7000000000000001,
            "bin_end": 0.8,
            "count": 0
           },
           {
            "bin_start": 0.8,
            "bin_end": 0.9,
            "count": 0
           },
           {
            "bin_start": 0.9,
            "bin_end": 1,
            "count": 1
           }
          ]
         }
        },
        {
         "name": "specialite_geologie",
         "dtype": "uint8",
         "stats": {
          "unique_count": 2,
          "nan_count": 0,
          "min": "0",
          "max": "1",
          "histogram": [
           {
            "bin_start": 0,
            "bin_end": 0.1,
            "count": 2
           },
           {
            "bin_start": 0.1,
            "bin_end": 0.2,
            "count": 0
           },
           {
            "bin_start": 0.2,
            "bin_end": 0.30000000000000004,
            "count": 0
           },
           {
            "bin_start": 0.30000000000000004,
            "bin_end": 0.4,
            "count": 0
           },
           {
            "bin_start": 0.4,
            "bin_end": 0.5,
            "count": 0
           },
           {
            "bin_start": 0.5,
            "bin_end": 0.6000000000000001,
            "count": 0
           },
           {
            "bin_start": 0.6000000000000001,
            "bin_end": 0.7000000000000001,
            "count": 0
           },
           {
            "bin_start": 0.7000000000000001,
            "bin_end": 0.8,
            "count": 0
           },
           {
            "bin_start": 0.8,
            "bin_end": 0.9,
            "count": 0
           },
           {
            "bin_start": 0.9,
            "bin_end": 1,
            "count": 3
           }
          ]
         }
        },
        {
         "name": "age_(0, 30]",
         "dtype": "uint8",
         "stats": {
          "unique_count": 2,
          "nan_count": 0,
          "min": "0",
          "max": "1",
          "histogram": [
           {
            "bin_start": 0,
            "bin_end": 0.1,
            "count": 3
           },
           {
            "bin_start": 0.1,
            "bin_end": 0.2,
            "count": 0
           },
           {
            "bin_start": 0.2,
            "bin_end": 0.30000000000000004,
            "count": 0
           },
           {
            "bin_start": 0.30000000000000004,
            "bin_end": 0.4,
            "count": 0
           },
           {
            "bin_start": 0.4,
            "bin_end": 0.5,
            "count": 0
           },
           {
            "bin_start": 0.5,
            "bin_end": 0.6000000000000001,
            "count": 0
           },
           {
            "bin_start": 0.6000000000000001,
            "bin_end": 0.7000000000000001,
            "count": 0
           },
           {
            "bin_start": 0.7000000000000001,
            "bin_end": 0.8,
            "count": 0
           },
           {
            "bin_start": 0.8,
            "bin_end": 0.9,
            "count": 0
           },
           {
            "bin_start": 0.9,
            "bin_end": 1,
            "count": 2
           }
          ]
         }
        },
        {
         "name": "age_(30, 40]",
         "dtype": "uint8",
         "stats": {
          "unique_count": 2,
          "nan_count": 0,
          "min": "0",
          "max": "1",
          "histogram": [
           {
            "bin_start": 0,
            "bin_end": 0.1,
            "count": 2
           },
           {
            "bin_start": 0.1,
            "bin_end": 0.2,
            "count": 0
           },
           {
            "bin_start": 0.2,
            "bin_end": 0.30000000000000004,
            "count": 0
           },
           {
            "bin_start": 0.30000000000000004,
            "bin_end": 0.4,
            "count": 0
           },
           {
            "bin_start": 0.4,
            "bin_end": 0.5,
            "count": 0
           },
           {
            "bin_start": 0.5,
            "bin_end": 0.6000000000000001,
            "count": 0
           },
           {
            "bin_start": 0.6000000000000001,
            "bin_end": 0.7000000000000001,
            "count": 0
           },
           {
            "bin_start": 0.7000000000000001,
            "bin_end": 0.8,
            "count": 0
           },
           {
            "bin_start": 0.8,
            "bin_end": 0.9,
            "count": 0
           },
           {
            "bin_start": 0.9,
            "bin_end": 1,
            "count": 3
           }
          ]
         }
        },
        {
         "name": "age_(40, 50]",
         "dtype": "uint8",
         "stats": {
          "unique_count": 1,
          "nan_count": 0,
          "min": "0",
          "max": "0",
          "histogram": [
           {
            "bin_start": -0.5,
            "bin_end": -0.4,
            "count": 0
           },
           {
            "bin_start": -0.4,
            "bin_end": -0.3,
            "count": 0
           },
           {
            "bin_start": -0.3,
            "bin_end": -0.19999999999999996,
            "count": 0
           },
           {
            "bin_start": -0.19999999999999996,
            "bin_end": -0.09999999999999998,
            "count": 0
           },
           {
            "bin_start": -0.09999999999999998,
            "bin_end": 0,
            "count": 0
           },
           {
            "bin_start": 0,
            "bin_end": 0.10000000000000009,
            "count": 5
           },
           {
            "bin_start": 0.10000000000000009,
            "bin_end": 0.20000000000000007,
            "count": 0
           },
           {
            "bin_start": 0.20000000000000007,
            "bin_end": 0.30000000000000004,
            "count": 0
           },
           {
            "bin_start": 0.30000000000000004,
            "bin_end": 0.4,
            "count": 0
           },
           {
            "bin_start": 0.4,
            "bin_end": 0.5,
            "count": 0
           }
          ]
         }
        },
        {
         "name": "age_(50, 70]",
         "dtype": "uint8",
         "stats": {
          "unique_count": 1,
          "nan_count": 0,
          "min": "0",
          "max": "0",
          "histogram": [
           {
            "bin_start": -0.5,
            "bin_end": -0.4,
            "count": 0
           },
           {
            "bin_start": -0.4,
            "bin_end": -0.3,
            "count": 0
           },
           {
            "bin_start": -0.3,
            "bin_end": -0.19999999999999996,
            "count": 0
           },
           {
            "bin_start": -0.19999999999999996,
            "bin_end": -0.09999999999999998,
            "count": 0
           },
           {
            "bin_start": -0.09999999999999998,
            "bin_end": 0,
            "count": 0
           },
           {
            "bin_start": 0,
            "bin_end": 0.10000000000000009,
            "count": 5
           },
           {
            "bin_start": 0.10000000000000009,
            "bin_end": 0.20000000000000007,
            "count": 0
           },
           {
            "bin_start": 0.20000000000000007,
            "bin_end": 0.30000000000000004,
            "count": 0
           },
           {
            "bin_start": 0.30000000000000004,
            "bin_end": 0.4,
            "count": 0
           },
           {
            "bin_start": 0.4,
            "bin_end": 0.5,
            "count": 0
           }
          ]
         }
        },
        {
         "name": "salaire_(0, 30000]",
         "dtype": "uint8",
         "stats": {
          "unique_count": 2,
          "nan_count": 0,
          "min": "0",
          "max": "1",
          "histogram": [
           {
            "bin_start": 0,
            "bin_end": 0.1,
            "count": 3
           },
           {
            "bin_start": 0.1,
            "bin_end": 0.2,
            "count": 0
           },
           {
            "bin_start": 0.2,
            "bin_end": 0.30000000000000004,
            "count": 0
           },
           {
            "bin_start": 0.30000000000000004,
            "bin_end": 0.4,
            "count": 0
           },
           {
            "bin_start": 0.4,
            "bin_end": 0.5,
            "count": 0
           },
           {
            "bin_start": 0.5,
            "bin_end": 0.6000000000000001,
            "count": 0
           },
           {
            "bin_start": 0.6000000000000001,
            "bin_end": 0.7000000000000001,
            "count": 0
           },
           {
            "bin_start": 0.7000000000000001,
            "bin_end": 0.8,
            "count": 0
           },
           {
            "bin_start": 0.8,
            "bin_end": 0.9,
            "count": 0
           },
           {
            "bin_start": 0.9,
            "bin_end": 1,
            "count": 2
           }
          ]
         }
        },
        {
         "name": "salaire_(30000, 35000]",
         "dtype": "uint8",
         "stats": {
          "unique_count": 1,
          "nan_count": 0,
          "min": "0",
          "max": "0",
          "histogram": [
           {
            "bin_start": -0.5,
            "bin_end": -0.4,
            "count": 0
           },
           {
            "bin_start": -0.4,
            "bin_end": -0.3,
            "count": 0
           },
           {
            "bin_start": -0.3,
            "bin_end": -0.19999999999999996,
            "count": 0
           },
           {
            "bin_start": -0.19999999999999996,
            "bin_end": -0.09999999999999998,
            "count": 0
           },
           {
            "bin_start": -0.09999999999999998,
            "bin_end": 0,
            "count": 0
           },
           {
            "bin_start": 0,
            "bin_end": 0.10000000000000009,
            "count": 5
           },
           {
            "bin_start": 0.10000000000000009,
            "bin_end": 0.20000000000000007,
            "count": 0
           },
           {
            "bin_start": 0.20000000000000007,
            "bin_end": 0.30000000000000004,
            "count": 0
           },
           {
            "bin_start": 0.30000000000000004,
            "bin_end": 0.4,
            "count": 0
           },
           {
            "bin_start": 0.4,
            "bin_end": 0.5,
            "count": 0
           }
          ]
         }
        },
        {
         "name": "salaire_(35000, 40000]",
         "dtype": "uint8",
         "stats": {
          "unique_count": 2,
          "nan_count": 0,
          "min": "0",
          "max": "1",
          "histogram": [
           {
            "bin_start": 0,
            "bin_end": 0.1,
            "count": 2
           },
           {
            "bin_start": 0.1,
            "bin_end": 0.2,
            "count": 0
           },
           {
            "bin_start": 0.2,
            "bin_end": 0.30000000000000004,
            "count": 0
           },
           {
            "bin_start": 0.30000000000000004,
            "bin_end": 0.4,
            "count": 0
           },
           {
            "bin_start": 0.4,
            "bin_end": 0.5,
            "count": 0
           },
           {
            "bin_start": 0.5,
            "bin_end": 0.6000000000000001,
            "count": 0
           },
           {
            "bin_start": 0.6000000000000001,
            "bin_end": 0.7000000000000001,
            "count": 0
           },
           {
            "bin_start": 0.7000000000000001,
            "bin_end": 0.8,
            "count": 0
           },
           {
            "bin_start": 0.8,
            "bin_end": 0.9,
            "count": 0
           },
           {
            "bin_start": 0.9,
            "bin_end": 1,
            "count": 3
           }
          ]
         }
        },
        {
         "name": "salaire_(40000, 70000]",
         "dtype": "uint8",
         "stats": {
          "unique_count": 1,
          "nan_count": 0,
          "min": "0",
          "max": "0",
          "histogram": [
           {
            "bin_start": -0.5,
            "bin_end": -0.4,
            "count": 0
           },
           {
            "bin_start": -0.4,
            "bin_end": -0.3,
            "count": 0
           },
           {
            "bin_start": -0.3,
            "bin_end": -0.19999999999999996,
            "count": 0
           },
           {
            "bin_start": -0.19999999999999996,
            "bin_end": -0.09999999999999998,
            "count": 0
           },
           {
            "bin_start": -0.09999999999999998,
            "bin_end": 0,
            "count": 0
           },
           {
            "bin_start": 0,
            "bin_end": 0.10000000000000009,
            "count": 5
           },
           {
            "bin_start": 0.10000000000000009,
            "bin_end": 0.20000000000000007,
            "count": 0
           },
           {
            "bin_start": 0.20000000000000007,
            "bin_end": 0.30000000000000004,
            "count": 0
           },
           {
            "bin_start": 0.30000000000000004,
            "bin_end": 0.4,
            "count": 0
           },
           {
            "bin_start": 0.4,
            "bin_end": 0.5,
            "count": 0
           }
          ]
         }
        },
        {
         "name": "_deepnote_index_column",
         "dtype": "int64"
        }
       ],
       "rows_top": [
        {
         "dispo_non": 1,
         "dispo_oui": 0,
         "diplome_bac": 0,
         "diplome_doctorat": 0,
         "diplome_licence": 1,
         "diplome_master": 0,
         "specialite_archeologie": 0,
         "specialite_detective": 0,
         "specialite_forage": 0,
         "specialite_geologie": 1,
         "age_(0, 30]": 1,
         "age_(30, 40]": 0,
         "age_(40, 50]": 0,
         "age_(50, 70]": 0,
         "salaire_(0, 30000]": 1,
         "salaire_(30000, 35000]": 0,
         "salaire_(35000, 40000]": 0,
         "salaire_(40000, 70000]": 0,
         "_deepnote_index_column": 0
        },
        {
         "dispo_non": 1,
         "dispo_oui": 0,
         "diplome_bac": 0,
         "diplome_doctorat": 0,
         "diplome_licence": 1,
         "diplome_master": 0,
         "specialite_archeologie": 0,
         "specialite_detective": 0,
         "specialite_forage": 1,
         "specialite_geologie": 0,
         "age_(0, 30]": 0,
         "age_(30, 40]": 1,
         "age_(40, 50]": 0,
         "age_(50, 70]": 0,
         "salaire_(0, 30000]": 0,
         "salaire_(30000, 35000]": 0,
         "salaire_(35000, 40000]": 1,
         "salaire_(40000, 70000]": 0,
         "_deepnote_index_column": 1
        },
        {
         "dispo_non": 1,
         "dispo_oui": 0,
         "diplome_bac": 0,
         "diplome_doctorat": 0,
         "diplome_licence": 1,
         "diplome_master": 0,
         "specialite_archeologie": 0,
         "specialite_detective": 0,
         "specialite_forage": 0,
         "specialite_geologie": 1,
         "age_(0, 30]": 1,
         "age_(30, 40]": 0,
         "age_(40, 50]": 0,
         "age_(50, 70]": 0,
         "salaire_(0, 30000]": 0,
         "salaire_(30000, 35000]": 0,
         "salaire_(35000, 40000]": 1,
         "salaire_(40000, 70000]": 0,
         "_deepnote_index_column": 2
        },
        {
         "dispo_non": 1,
         "dispo_oui": 0,
         "diplome_bac": 0,
         "diplome_doctorat": 0,
         "diplome_licence": 1,
         "diplome_master": 0,
         "specialite_archeologie": 0,
         "specialite_detective": 1,
         "specialite_forage": 0,
         "specialite_geologie": 0,
         "age_(0, 30]": 0,
         "age_(30, 40]": 1,
         "age_(40, 50]": 0,
         "age_(50, 70]": 0,
         "salaire_(0, 30000]": 1,
         "salaire_(30000, 35000]": 0,
         "salaire_(35000, 40000]": 0,
         "salaire_(40000, 70000]": 0,
         "_deepnote_index_column": 4
        },
        {
         "dispo_non": 1,
         "dispo_oui": 0,
         "diplome_bac": 0,
         "diplome_doctorat": 0,
         "diplome_licence": 0,
         "diplome_master": 1,
         "specialite_archeologie": 0,
         "specialite_detective": 0,
         "specialite_forage": 0,
         "specialite_geologie": 1,
         "age_(0, 30]": 0,
         "age_(30, 40]": 1,
         "age_(40, 50]": 0,
         "age_(50, 70]": 0,
         "salaire_(0, 30000]": 0,
         "salaire_(30000, 35000]": 0,
         "salaire_(35000, 40000]": 1,
         "salaire_(40000, 70000]": 0,
         "_deepnote_index_column": 5
        }
       ],
       "rows_bottom": null
      },
      "text/plain": "   dispo_non  dispo_oui  diplome_bac  diplome_doctorat  diplome_licence  \\\n0          1          0            0                 0                1   \n1          1          0            0                 0                1   \n2          1          0            0                 0                1   \n4          1          0            0                 0                1   \n5          1          0            0                 0                0   \n\n   diplome_master  specialite_archeologie  specialite_detective  \\\n0               0                       0                     0   \n1               0                       0                     0   \n2               0                       0                     0   \n4               0                       0                     1   \n5               1                       0                     0   \n\n   specialite_forage  specialite_geologie  age_(0, 30]  age_(30, 40]  \\\n0                  0                    1            1             0   \n1                  1                    0            0             1   \n2                  0                    1            1             0   \n4                  0                    0            0             1   \n5                  0                    1            0             1   \n\n   age_(40, 50]  age_(50, 70]  salaire_(0, 30000]  salaire_(30000, 35000]  \\\n0             0             0                   1                       0   \n1             0             0                   0                       0   \n2             0             0                   0                       0   \n4             0             0                   1                       0   \n5             0             0                   0                       0   \n\n   salaire_(35000, 40000]  salaire_(40000, 70000]  \n0                       0                       0  \n1                       1                       0  \n2                       1                       0  \n4                       0                       0  \n5                       1                       0  ",
      "text/html": "<div>\n<style scoped>\n    .dataframe tbody tr th:only-of-type {\n        vertical-align: middle;\n    }\n\n    .dataframe tbody tr th {\n        vertical-align: top;\n    }\n\n    .dataframe thead th {\n        text-align: right;\n    }\n</style>\n<table border=\"1\" class=\"dataframe\">\n  <thead>\n    <tr style=\"text-align: right;\">\n      <th></th>\n      <th>dispo_non</th>\n      <th>dispo_oui</th>\n      <th>diplome_bac</th>\n      <th>diplome_doctorat</th>\n      <th>diplome_licence</th>\n      <th>diplome_master</th>\n      <th>specialite_archeologie</th>\n      <th>specialite_detective</th>\n      <th>specialite_forage</th>\n      <th>specialite_geologie</th>\n      <th>age_(0, 30]</th>\n      <th>age_(30, 40]</th>\n      <th>age_(40, 50]</th>\n      <th>age_(50, 70]</th>\n      <th>salaire_(0, 30000]</th>\n      <th>salaire_(30000, 35000]</th>\n      <th>salaire_(35000, 40000]</th>\n      <th>salaire_(40000, 70000]</th>\n    </tr>\n  </thead>\n  <tbody>\n    <tr>\n      <th>0</th>\n      <td>1</td>\n      <td>0</td>\n      <td>0</td>\n      <td>0</td>\n      <td>1</td>\n      <td>0</td>\n      <td>0</td>\n      <td>0</td>\n      <td>0</td>\n      <td>1</td>\n      <td>1</td>\n      <td>0</td>\n      <td>0</td>\n      <td>0</td>\n      <td>1</td>\n      <td>0</td>\n      <td>0</td>\n      <td>0</td>\n    </tr>\n    <tr>\n      <th>1</th>\n      <td>1</td>\n      <td>0</td>\n      <td>0</td>\n      <td>0</td>\n      <td>1</td>\n      <td>0</td>\n      <td>0</td>\n      <td>0</td>\n      <td>1</td>\n      <td>0</td>\n      <td>0</td>\n      <td>1</td>\n      <td>0</td>\n      <td>0</td>\n      <td>0</td>\n      <td>0</td>\n      <td>1</td>\n      <td>0</td>\n    </tr>\n    <tr>\n      <th>2</th>\n      <td>1</td>\n      <td>0</td>\n      <td>0</td>\n      <td>0</td>\n      <td>1</td>\n      <td>0</td>\n      <td>0</td>\n      <td>0</td>\n      <td>0</td>\n      <td>1</td>\n      <td>1</td>\n      <td>0</td>\n      <td>0</td>\n      <td>0</td>\n      <td>0</td>\n      <td>0</td>\n      <td>1</td>\n      <td>0</td>\n    </tr>\n    <tr>\n      <th>4</th>\n      <td>1</td>\n      <td>0</td>\n      <td>0</td>\n      <td>0</td>\n      <td>1</td>\n      <td>0</td>\n      <td>0</td>\n      <td>1</td>\n      <td>0</td>\n      <td>0</td>\n      <td>0</td>\n      <td>1</td>\n      <td>0</td>\n      <td>0</td>\n      <td>1</td>\n      <td>0</td>\n      <td>0</td>\n      <td>0</td>\n    </tr>\n    <tr>\n      <th>5</th>\n      <td>1</td>\n      <td>0</td>\n      <td>0</td>\n      <td>0</td>\n      <td>0</td>\n      <td>1</td>\n      <td>0</td>\n      <td>0</td>\n      <td>0</td>\n      <td>1</td>\n      <td>0</td>\n      <td>1</td>\n      <td>0</td>\n      <td>0</td>\n      <td>0</td>\n      <td>0</td>\n      <td>1</td>\n      <td>0</td>\n    </tr>\n  </tbody>\n</table>\n</div>"
     },
     "metadata": {}
    }
   ]
  },
  {
   "cell_type": "code",
   "metadata": {
    "tags": [],
    "cell_id": "00043-cfd665e0-6786-4618-a4be-7527d65b7cac",
    "deepnote_to_be_reexecuted": false,
    "source_hash": "74137bcb",
    "execution_start": 1630159898400,
    "execution_millis": 1400134644,
    "deepnote_cell_type": "code"
   },
   "source": "FEATURES = list(CATEGORICALS) + NUMERICALS",
   "execution_count": null,
   "outputs": []
  },
  {
   "cell_type": "markdown",
   "source": "## 2. Machine Learning",
   "metadata": {
    "cell_id": "00012-f8b0a38c-c6ab-4917-8fc0-9c6a1da4dbe2",
    "deepnote_cell_type": "markdown"
   }
  },
  {
   "cell_type": "markdown",
   "source": "### 1. Concevez un modèle permettant de prédire la variable embauche",
   "metadata": {
    "cell_id": "00013-5853bde7-5fe3-4602-a17b-65f5c71ccd4b",
    "deepnote_cell_type": "markdown"
   }
  },
  {
   "cell_type": "markdown",
   "source": "Lorsque l'on sépare nos données en test et train, on s'assurer que la distribution de leurs cibles soit la même que la cible du dataset de base. Pour rappel, on avait comme distribution de la Target :\n<ul> \n<li>89% de recalés \n<li>11% de personnes embauchées \n</ul>",
   "metadata": {
    "tags": [],
    "cell_id": "00036-e12239a2-9de3-458b-8028-9f0ec171b510",
    "deepnote_cell_type": "markdown"
   }
  },
  {
   "cell_type": "code",
   "metadata": {
    "tags": [],
    "cell_id": "00037-8a068cf8-c5e8-460e-966b-b90cdf29b5a6",
    "deepnote_to_be_reexecuted": false,
    "source_hash": "e07e81f2",
    "execution_start": 1630159898443,
    "execution_millis": 5,
    "deepnote_output_heights": [
     59.5625
    ],
    "deepnote_cell_type": "code"
   },
   "source": "data['embauche'].value_counts(normalize=True)",
   "execution_count": null,
   "outputs": [
    {
     "output_type": "execute_result",
     "execution_count": 30,
     "data": {
      "text/plain": "0    0.885394\n1    0.114606\nName: embauche, dtype: float64"
     },
     "metadata": {}
    }
   ]
  },
  {
   "cell_type": "code",
   "metadata": {
    "tags": [],
    "cell_id": "00052-63a1d37a-1ee4-4407-a370-0bdc6bf80834",
    "deepnote_to_be_reexecuted": false,
    "source_hash": "f86400d4",
    "execution_start": 1630159898443,
    "execution_millis": 137,
    "deepnote_output_heights": [
     21.1875,
     264
    ],
    "deepnote_cell_type": "code"
   },
   "source": "sns.countplot(data['embauche'])",
   "execution_count": null,
   "outputs": [
    {
     "output_type": "execute_result",
     "execution_count": 31,
     "data": {
      "text/plain": "<AxesSubplot:xlabel='embauche', ylabel='count'>"
     },
     "metadata": {}
    },
    {
     "data": {
      "text/plain": "<Figure size 432x288 with 1 Axes>",
      "image/png": "[encoded data removed]"
     },
     "metadata": {
      "needs_background": "light",
      "image/png": {
       "width": 401,
       "height": 262
      }
     },
     "output_type": "display_data"
    }
   ]
  },
  {
   "cell_type": "markdown",
   "source": "#### Préparation des données test et d'entraînement",
   "metadata": {
    "tags": [],
    "cell_id": "00040-cc823080-a90c-4a72-b8b6-145705a8e1f6",
    "deepnote_cell_type": "markdown"
   }
  },
  {
   "cell_type": "code",
   "metadata": {
    "tags": [],
    "cell_id": "00042-4635caaa-8ccd-4929-8345-b0bf72f1adf2",
    "deepnote_to_be_reexecuted": false,
    "source_hash": "cebfa945",
    "execution_start": 1630159898572,
    "execution_millis": 0,
    "deepnote_cell_type": "code"
   },
   "source": "X_train, X_test, y_train, y_test = train_test_split(data[FEATURES], data[TARGET],stratify=y, test_size=0.20, random_state=5)",
   "execution_count": null,
   "outputs": []
  },
  {
   "cell_type": "code",
   "metadata": {
    "tags": [],
    "cell_id": "00043-81bbeb93-406b-4495-9a31-60d1bde3e8d1",
    "deepnote_to_be_reexecuted": false,
    "source_hash": "8bd2a74f",
    "execution_start": 1630159898572,
    "execution_millis": 11,
    "deepnote_output_heights": [
     59.5625
    ],
    "deepnote_cell_type": "code"
   },
   "source": "# Les données ont bien gardé la distribution de base grâce au 'stratify=y'\ny_train.value_counts(normalize=True)",
   "execution_count": null,
   "outputs": [
    {
     "output_type": "execute_result",
     "execution_count": 33,
     "data": {
      "text/plain": "0    0.886339\n1    0.113661\nName: embauche, dtype: float64"
     },
     "metadata": {}
    }
   ]
  },
  {
   "cell_type": "code",
   "metadata": {
    "tags": [],
    "cell_id": "00044-8d99424c-a164-48c9-93f6-5f910567e707",
    "deepnote_to_be_reexecuted": false,
    "source_hash": "7c234d23",
    "execution_start": 1630159898623,
    "execution_millis": 46,
    "deepnote_cell_type": "code"
   },
   "source": "X_train.head()",
   "execution_count": null,
   "outputs": [
    {
     "output_type": "execute_result",
     "execution_count": 34,
     "data": {
      "application/vnd.deepnote.dataframe.v2+json": {
       "row_count": 5,
       "column_count": 19,
       "columns": [
        {
         "name": "dispo_non",
         "dtype": "uint8",
         "stats": {
          "unique_count": 2,
          "nan_count": 0,
          "min": "0",
          "max": "1",
          "histogram": [
           {
            "bin_start": 0,
            "bin_end": 0.1,
            "count": 3
           },
           {
            "bin_start": 0.1,
            "bin_end": 0.2,
            "count": 0
           },
           {
            "bin_start": 0.2,
            "bin_end": 0.30000000000000004,
            "count": 0
           },
           {
            "bin_start": 0.30000000000000004,
            "bin_end": 0.4,
            "count": 0
           },
           {
            "bin_start": 0.4,
            "bin_end": 0.5,
            "count": 0
           },
           {
            "bin_start": 0.5,
            "bin_end": 0.6000000000000001,
            "count": 0
           },
           {
            "bin_start": 0.6000000000000001,
            "bin_end": 0.7000000000000001,
            "count": 0
           },
           {
            "bin_start": 0.7000000000000001,
            "bin_end": 0.8,
            "count": 0
           },
           {
            "bin_start": 0.8,
            "bin_end": 0.9,
            "count": 0
           },
           {
            "bin_start": 0.9,
            "bin_end": 1,
            "count": 2
           }
          ]
         }
        },
        {
         "name": "dispo_oui",
         "dtype": "uint8",
         "stats": {
          "unique_count": 2,
          "nan_count": 0,
          "min": "0",
          "max": "1",
          "histogram": [
           {
            "bin_start": 0,
            "bin_end": 0.1,
            "count": 2
           },
           {
            "bin_start": 0.1,
            "bin_end": 0.2,
            "count": 0
           },
           {
            "bin_start": 0.2,
            "bin_end": 0.30000000000000004,
            "count": 0
           },
           {
            "bin_start": 0.30000000000000004,
            "bin_end": 0.4,
            "count": 0
           },
           {
            "bin_start": 0.4,
            "bin_end": 0.5,
            "count": 0
           },
           {
            "bin_start": 0.5,
            "bin_end": 0.6000000000000001,
            "count": 0
           },
           {
            "bin_start": 0.6000000000000001,
            "bin_end": 0.7000000000000001,
            "count": 0
           },
           {
            "bin_start": 0.7000000000000001,
            "bin_end": 0.8,
            "count": 0
           },
           {
            "bin_start": 0.8,
            "bin_end": 0.9,
            "count": 0
           },
           {
            "bin_start": 0.9,
            "bin_end": 1,
            "count": 3
           }
          ]
         }
        },
        {
         "name": "diplome_bac",
         "dtype": "uint8",
         "stats": {
          "unique_count": 1,
          "nan_count": 0,
          "min": "0",
          "max": "0",
          "histogram": [
           {
            "bin_start": -0.5,
            "bin_end": -0.4,
            "count": 0
           },
           {
            "bin_start": -0.4,
            "bin_end": -0.3,
            "count": 0
           },
           {
            "bin_start": -0.3,
            "bin_end": -0.19999999999999996,
            "count": 0
           },
           {
            "bin_start": -0.19999999999999996,
            "bin_end": -0.09999999999999998,
            "count": 0
           },
           {
            "bin_start": -0.09999999999999998,
            "bin_end": 0,
            "count": 0
           },
           {
            "bin_start": 0,
            "bin_end": 0.10000000000000009,
            "count": 5
           },
           {
            "bin_start": 0.10000000000000009,
            "bin_end": 0.20000000000000007,
            "count": 0
           },
           {
            "bin_start": 0.20000000000000007,
            "bin_end": 0.30000000000000004,
            "count": 0
           },
           {
            "bin_start": 0.30000000000000004,
            "bin_end": 0.4,
            "count": 0
           },
           {
            "bin_start": 0.4,
            "bin_end": 0.5,
            "count": 0
           }
          ]
         }
        },
        {
         "name": "diplome_doctorat",
         "dtype": "uint8",
         "stats": {
          "unique_count": 2,
          "nan_count": 0,
          "min": "0",
          "max": "1",
          "histogram": [
           {
            "bin_start": 0,
            "bin_end": 0.1,
            "count": 4
           },
           {
            "bin_start": 0.1,
            "bin_end": 0.2,
            "count": 0
           },
           {
            "bin_start": 0.2,
            "bin_end": 0.30000000000000004,
            "count": 0
           },
           {
            "bin_start": 0.30000000000000004,
            "bin_end": 0.4,
            "count": 0
           },
           {
            "bin_start": 0.4,
            "bin_end": 0.5,
            "count": 0
           },
           {
            "bin_start": 0.5,
            "bin_end": 0.6000000000000001,
            "count": 0
           },
           {
            "bin_start": 0.6000000000000001,
            "bin_end": 0.7000000000000001,
            "count": 0
           },
           {
            "bin_start": 0.7000000000000001,
            "bin_end": 0.8,
            "count": 0
           },
           {
            "bin_start": 0.8,
            "bin_end": 0.9,
            "count": 0
           },
           {
            "bin_start": 0.9,
            "bin_end": 1,
            "count": 1
           }
          ]
         }
        },
        {
         "name": "diplome_licence",
         "dtype": "uint8",
         "stats": {
          "unique_count": 2,
          "nan_count": 0,
          "min": "0",
          "max": "1",
          "histogram": [
           {
            "bin_start": 0,
            "bin_end": 0.1,
            "count": 4
           },
           {
            "bin_start": 0.1,
            "bin_end": 0.2,
            "count": 0
           },
           {
            "bin_start": 0.2,
            "bin_end": 0.30000000000000004,
            "count": 0
           },
           {
            "bin_start": 0.30000000000000004,
            "bin_end": 0.4,
            "count": 0
           },
           {
            "bin_start": 0.4,
            "bin_end": 0.5,
            "count": 0
           },
           {
            "bin_start": 0.5,
            "bin_end": 0.6000000000000001,
            "count": 0
           },
           {
            "bin_start": 0.6000000000000001,
            "bin_end": 0.7000000000000001,
            "count": 0
           },
           {
            "bin_start": 0.7000000000000001,
            "bin_end": 0.8,
            "count": 0
           },
           {
            "bin_start": 0.8,
            "bin_end": 0.9,
            "count": 0
           },
           {
            "bin_start": 0.9,
            "bin_end": 1,
            "count": 1
           }
          ]
         }
        },
        {
         "name": "diplome_master",
         "dtype": "uint8",
         "stats": {
          "unique_count": 2,
          "nan_count": 0,
          "min": "0",
          "max": "1",
          "histogram": [
           {
            "bin_start": 0,
            "bin_end": 0.1,
            "count": 2
           },
           {
            "bin_start": 0.1,
            "bin_end": 0.2,
            "count": 0
           },
           {
            "bin_start": 0.2,
            "bin_end": 0.30000000000000004,
            "count": 0
           },
           {
            "bin_start": 0.30000000000000004,
            "bin_end": 0.4,
            "count": 0
           },
           {
            "bin_start": 0.4,
            "bin_end": 0.5,
            "count": 0
           },
           {
            "bin_start": 0.5,
            "bin_end": 0.6000000000000001,
            "count": 0
           },
           {
            "bin_start": 0.6000000000000001,
            "bin_end": 0.7000000000000001,
            "count": 0
           },
           {
            "bin_start": 0.7000000000000001,
            "bin_end": 0.8,
            "count": 0
           },
           {
            "bin_start": 0.8,
            "bin_end": 0.9,
            "count": 0
           },
           {
            "bin_start": 0.9,
            "bin_end": 1,
            "count": 3
           }
          ]
         }
        },
        {
         "name": "specialite_archeologie",
         "dtype": "uint8",
         "stats": {
          "unique_count": 1,
          "nan_count": 0,
          "min": "0",
          "max": "0",
          "histogram": [
           {
            "bin_start": -0.5,
            "bin_end": -0.4,
            "count": 0
           },
           {
            "bin_start": -0.4,
            "bin_end": -0.3,
            "count": 0
           },
           {
            "bin_start": -0.3,
            "bin_end": -0.19999999999999996,
            "count": 0
           },
           {
            "bin_start": -0.19999999999999996,
            "bin_end": -0.09999999999999998,
            "count": 0
           },
           {
            "bin_start": -0.09999999999999998,
            "bin_end": 0,
            "count": 0
           },
           {
            "bin_start": 0,
            "bin_end": 0.10000000000000009,
            "count": 5
           },
           {
            "bin_start": 0.10000000000000009,
            "bin_end": 0.20000000000000007,
            "count": 0
           },
           {
            "bin_start": 0.20000000000000007,
            "bin_end": 0.30000000000000004,
            "count": 0
           },
           {
            "bin_start": 0.30000000000000004,
            "bin_end": 0.4,
            "count": 0
           },
           {
            "bin_start": 0.4,
            "bin_end": 0.5,
            "count": 0
           }
          ]
         }
        },
        {
         "name": "specialite_detective",
         "dtype": "uint8",
         "stats": {
          "unique_count": 2,
          "nan_count": 0,
          "min": "0",
          "max": "1",
          "histogram": [
           {
            "bin_start": 0,
            "bin_end": 0.1,
            "count": 2
           },
           {
            "bin_start": 0.1,
            "bin_end": 0.2,
            "count": 0
           },
           {
            "bin_start": 0.2,
            "bin_end": 0.30000000000000004,
            "count": 0
           },
           {
            "bin_start": 0.30000000000000004,
            "bin_end": 0.4,
            "count": 0
           },
           {
            "bin_start": 0.4,
            "bin_end": 0.5,
            "count": 0
           },
           {
            "bin_start": 0.5,
            "bin_end": 0.6000000000000001,
            "count": 0
           },
           {
            "bin_start": 0.6000000000000001,
            "bin_end": 0.7000000000000001,
            "count": 0
           },
           {
            "bin_start": 0.7000000000000001,
            "bin_end": 0.8,
            "count": 0
           },
           {
            "bin_start": 0.8,
            "bin_end": 0.9,
            "count": 0
           },
           {
            "bin_start": 0.9,
            "bin_end": 1,
            "count": 3
           }
          ]
         }
        },
        {
         "name": "specialite_forage",
         "dtype": "uint8",
         "stats": {
          "unique_count": 2,
          "nan_count": 0,
          "min": "0",
          "max": "1",
          "histogram": [
           {
            "bin_start": 0,
            "bin_end": 0.1,
            "count": 4
           },
           {
            "bin_start": 0.1,
            "bin_end": 0.2,
            "count": 0
           },
           {
            "bin_start": 0.2,
            "bin_end": 0.30000000000000004,
            "count": 0
           },
           {
            "bin_start": 0.30000000000000004,
            "bin_end": 0.4,
            "count": 0
           },
           {
            "bin_start": 0.4,
            "bin_end": 0.5,
            "count": 0
           },
           {
            "bin_start": 0.5,
            "bin_end": 0.6000000000000001,
            "count": 0
           },
           {
            "bin_start": 0.6000000000000001,
            "bin_end": 0.7000000000000001,
            "count": 0
           },
           {
            "bin_start": 0.7000000000000001,
            "bin_end": 0.8,
            "count": 0
           },
           {
            "bin_start": 0.8,
            "bin_end": 0.9,
            "count": 0
           },
           {
            "bin_start": 0.9,
            "bin_end": 1,
            "count": 1
           }
          ]
         }
        },
        {
         "name": "specialite_geologie",
         "dtype": "uint8",
         "stats": {
          "unique_count": 2,
          "nan_count": 0,
          "min": "0",
          "max": "1",
          "histogram": [
           {
            "bin_start": 0,
            "bin_end": 0.1,
            "count": 4
           },
           {
            "bin_start": 0.1,
            "bin_end": 0.2,
            "count": 0
           },
           {
            "bin_start": 0.2,
            "bin_end": 0.30000000000000004,
            "count": 0
           },
           {
            "bin_start": 0.30000000000000004,
            "bin_end": 0.4,
            "count": 0
           },
           {
            "bin_start": 0.4,
            "bin_end": 0.5,
            "count": 0
           },
           {
            "bin_start": 0.5,
            "bin_end": 0.6000000000000001,
            "count": 0
           },
           {
            "bin_start": 0.6000000000000001,
            "bin_end": 0.7000000000000001,
            "count": 0
           },
           {
            "bin_start": 0.7000000000000001,
            "bin_end": 0.8,
            "count": 0
           },
           {
            "bin_start": 0.8,
            "bin_end": 0.9,
            "count": 0
           },
           {
            "bin_start": 0.9,
            "bin_end": 1,
            "count": 1
           }
          ]
         }
        },
        {
         "name": "age_(0, 30]",
         "dtype": "uint8",
         "stats": {
          "unique_count": 1,
          "nan_count": 0,
          "min": "0",
          "max": "0",
          "histogram": [
           {
            "bin_start": -0.5,
            "bin_end": -0.4,
            "count": 0
           },
           {
            "bin_start": -0.4,
            "bin_end": -0.3,
            "count": 0
           },
           {
            "bin_start": -0.3,
            "bin_end": -0.19999999999999996,
            "count": 0
           },
           {
            "bin_start": -0.19999999999999996,
            "bin_end": -0.09999999999999998,
            "count": 0
           },
           {
            "bin_start": -0.09999999999999998,
            "bin_end": 0,
            "count": 0
           },
           {
            "bin_start": 0,
            "bin_end": 0.10000000000000009,
            "count": 5
           },
           {
            "bin_start": 0.10000000000000009,
            "bin_end": 0.20000000000000007,
            "count": 0
           },
           {
            "bin_start": 0.20000000000000007,
            "bin_end": 0.30000000000000004,
            "count": 0
           },
           {
            "bin_start": 0.30000000000000004,
            "bin_end": 0.4,
            "count": 0
           },
           {
            "bin_start": 0.4,
            "bin_end": 0.5,
            "count": 0
           }
          ]
         }
        },
        {
         "name": "age_(30, 40]",
         "dtype": "uint8",
         "stats": {
          "unique_count": 1,
          "nan_count": 0,
          "min": "1",
          "max": "1",
          "histogram": [
           {
            "bin_start": 0.5,
            "bin_end": 0.6,
            "count": 0
           },
           {
            "bin_start": 0.6,
            "bin_end": 0.7,
            "count": 0
           },
           {
            "bin_start": 0.7,
            "bin_end": 0.8,
            "count": 0
           },
           {
            "bin_start": 0.8,
            "bin_end": 0.9,
            "count": 0
           },
           {
            "bin_start": 0.9,
            "bin_end": 1,
            "count": 0
           },
           {
            "bin_start": 1,
            "bin_end": 1.1,
            "count": 5
           },
           {
            "bin_start": 1.1,
            "bin_end": 1.2000000000000002,
            "count": 0
           },
           {
            "bin_start": 1.2000000000000002,
            "bin_end": 1.3,
            "count": 0
           },
           {
            "bin_start": 1.3,
            "bin_end": 1.4,
            "count": 0
           },
           {
            "bin_start": 1.4,
            "bin_end": 1.5,
            "count": 0
           }
          ]
         }
        },
        {
         "name": "age_(40, 50]",
         "dtype": "uint8",
         "stats": {
          "unique_count": 1,
          "nan_count": 0,
          "min": "0",
          "max": "0",
          "histogram": [
           {
            "bin_start": -0.5,
            "bin_end": -0.4,
            "count": 0
           },
           {
            "bin_start": -0.4,
            "bin_end": -0.3,
            "count": 0
           },
           {
            "bin_start": -0.3,
            "bin_end": -0.19999999999999996,
            "count": 0
           },
           {
            "bin_start": -0.19999999999999996,
            "bin_end": -0.09999999999999998,
            "count": 0
           },
           {
            "bin_start": -0.09999999999999998,
            "bin_end": 0,
            "count": 0
           },
           {
            "bin_start": 0,
            "bin_end": 0.10000000000000009,
            "count": 5
           },
           {
            "bin_start": 0.10000000000000009,
            "bin_end": 0.20000000000000007,
            "count": 0
           },
           {
            "bin_start": 0.20000000000000007,
            "bin_end": 0.30000000000000004,
            "count": 0
           },
           {
            "bin_start": 0.30000000000000004,
            "bin_end": 0.4,
            "count": 0
           },
           {
            "bin_start": 0.4,
            "bin_end": 0.5,
            "count": 0
           }
          ]
         }
        },
        {
         "name": "age_(50, 70]",
         "dtype": "uint8",
         "stats": {
          "unique_count": 1,
          "nan_count": 0,
          "min": "0",
          "max": "0",
          "histogram": [
           {
            "bin_start": -0.5,
            "bin_end": -0.4,
            "count": 0
           },
           {
            "bin_start": -0.4,
            "bin_end": -0.3,
            "count": 0
           },
           {
            "bin_start": -0.3,
            "bin_end": -0.19999999999999996,
            "count": 0
           },
           {
            "bin_start": -0.19999999999999996,
            "bin_end": -0.09999999999999998,
            "count": 0
           },
           {
            "bin_start": -0.09999999999999998,
            "bin_end": 0,
            "count": 0
           },
           {
            "bin_start": 0,
            "bin_end": 0.10000000000000009,
            "count": 5
           },
           {
            "bin_start": 0.10000000000000009,
            "bin_end": 0.20000000000000007,
            "count": 0
           },
           {
            "bin_start": 0.20000000000000007,
            "bin_end": 0.30000000000000004,
            "count": 0
           },
           {
            "bin_start": 0.30000000000000004,
            "bin_end": 0.4,
            "count": 0
           },
           {
            "bin_start": 0.4,
            "bin_end": 0.5,
            "count": 0
           }
          ]
         }
        },
        {
         "name": "salaire_(0, 30000]",
         "dtype": "uint8",
         "stats": {
          "unique_count": 2,
          "nan_count": 0,
          "min": "0",
          "max": "1",
          "histogram": [
           {
            "bin_start": 0,
            "bin_end": 0.1,
            "count": 4
           },
           {
            "bin_start": 0.1,
            "bin_end": 0.2,
            "count": 0
           },
           {
            "bin_start": 0.2,
            "bin_end": 0.30000000000000004,
            "count": 0
           },
           {
            "bin_start": 0.30000000000000004,
            "bin_end": 0.4,
            "count": 0
           },
           {
            "bin_start": 0.4,
            "bin_end": 0.5,
            "count": 0
           },
           {
            "bin_start": 0.5,
            "bin_end": 0.6000000000000001,
            "count": 0
           },
           {
            "bin_start": 0.6000000000000001,
            "bin_end": 0.7000000000000001,
            "count": 0
           },
           {
            "bin_start": 0.7000000000000001,
            "bin_end": 0.8,
            "count": 0
           },
           {
            "bin_start": 0.8,
            "bin_end": 0.9,
            "count": 0
           },
           {
            "bin_start": 0.9,
            "bin_end": 1,
            "count": 1
           }
          ]
         }
        },
        {
         "name": "salaire_(30000, 35000]",
         "dtype": "uint8",
         "stats": {
          "unique_count": 2,
          "nan_count": 0,
          "min": "0",
          "max": "1",
          "histogram": [
           {
            "bin_start": 0,
            "bin_end": 0.1,
            "count": 3
           },
           {
            "bin_start": 0.1,
            "bin_end": 0.2,
            "count": 0
           },
           {
            "bin_start": 0.2,
            "bin_end": 0.30000000000000004,
            "count": 0
           },
           {
            "bin_start": 0.30000000000000004,
            "bin_end": 0.4,
            "count": 0
           },
           {
            "bin_start": 0.4,
            "bin_end": 0.5,
            "count": 0
           },
           {
            "bin_start": 0.5,
            "bin_end": 0.6000000000000001,
            "count": 0
           },
           {
            "bin_start": 0.6000000000000001,
            "bin_end": 0.7000000000000001,
            "count": 0
           },
           {
            "bin_start": 0.7000000000000001,
            "bin_end": 0.8,
            "count": 0
           },
           {
            "bin_start": 0.8,
            "bin_end": 0.9,
            "count": 0
           },
           {
            "bin_start": 0.9,
            "bin_end": 1,
            "count": 2
           }
          ]
         }
        },
        {
         "name": "salaire_(35000, 40000]",
         "dtype": "uint8",
         "stats": {
          "unique_count": 2,
          "nan_count": 0,
          "min": "0",
          "max": "1",
          "histogram": [
           {
            "bin_start": 0,
            "bin_end": 0.1,
            "count": 3
           },
           {
            "bin_start": 0.1,
            "bin_end": 0.2,
            "count": 0
           },
           {
            "bin_start": 0.2,
            "bin_end": 0.30000000000000004,
            "count": 0
           },
           {
            "bin_start": 0.30000000000000004,
            "bin_end": 0.4,
            "count": 0
           },
           {
            "bin_start": 0.4,
            "bin_end": 0.5,
            "count": 0
           },
           {
            "bin_start": 0.5,
            "bin_end": 0.6000000000000001,
            "count": 0
           },
           {
            "bin_start": 0.6000000000000001,
            "bin_end": 0.7000000000000001,
            "count": 0
           },
           {
            "bin_start": 0.7000000000000001,
            "bin_end": 0.8,
            "count": 0
           },
           {
            "bin_start": 0.8,
            "bin_end": 0.9,
            "count": 0
           },
           {
            "bin_start": 0.9,
            "bin_end": 1,
            "count": 2
           }
          ]
         }
        },
        {
         "name": "salaire_(40000, 70000]",
         "dtype": "uint8",
         "stats": {
          "unique_count": 1,
          "nan_count": 0,
          "min": "0",
          "max": "0",
          "histogram": [
           {
            "bin_start": -0.5,
            "bin_end": -0.4,
            "count": 0
           },
           {
            "bin_start": -0.4,
            "bin_end": -0.3,
            "count": 0
           },
           {
            "bin_start": -0.3,
            "bin_end": -0.19999999999999996,
            "count": 0
           },
           {
            "bin_start": -0.19999999999999996,
            "bin_end": -0.09999999999999998,
            "count": 0
           },
           {
            "bin_start": -0.09999999999999998,
            "bin_end": 0,
            "count": 0
           },
           {
            "bin_start": 0,
            "bin_end": 0.10000000000000009,
            "count": 5
           },
           {
            "bin_start": 0.10000000000000009,
            "bin_end": 0.20000000000000007,
            "count": 0
           },
           {
            "bin_start": 0.20000000000000007,
            "bin_end": 0.30000000000000004,
            "count": 0
           },
           {
            "bin_start": 0.30000000000000004,
            "bin_end": 0.4,
            "count": 0
           },
           {
            "bin_start": 0.4,
            "bin_end": 0.5,
            "count": 0
           }
          ]
         }
        },
        {
         "name": "note_norm",
         "dtype": "float64",
         "stats": {
          "unique_count": 5,
          "nan_count": 0,
          "min": "-0.7664600852972107",
          "max": "1.378593699690656",
          "histogram": [
           {
            "bin_start": -0.7664600852972107,
            "bin_end": -0.5519547067984241,
            "count": 1
           },
           {
            "bin_start": -0.5519547067984241,
            "bin_end": -0.33744932829963736,
            "count": 1
           },
           {
            "bin_start": -0.33744932829963736,
            "bin_end": -0.12294394980085077,
            "count": 0
           },
           {
            "bin_start": -0.12294394980085077,
            "bin_end": 0.09156142869793593,
            "count": 0
           },
           {
            "bin_start": 0.09156142869793593,
            "bin_end": 0.30606680719672263,
            "count": 1
           },
           {
            "bin_start": 0.30606680719672263,
            "bin_end": 0.5205721856955091,
            "count": 0
           },
           {
            "bin_start": 0.5205721856955091,
            "bin_end": 0.7350775641942958,
            "count": 0
           },
           {
            "bin_start": 0.7350775641942958,
            "bin_end": 0.9495829426930825,
            "count": 0
           },
           {
            "bin_start": 0.9495829426930825,
            "bin_end": 1.1640883211918691,
            "count": 0
           },
           {
            "bin_start": 1.1640883211918691,
            "bin_end": 1.378593699690656,
            "count": 2
           }
          ]
         }
        },
        {
         "name": "_deepnote_index_column",
         "dtype": "int64"
        }
       ],
       "rows_top": [
        {
         "dispo_non": 0,
         "dispo_oui": 1,
         "diplome_bac": 0,
         "diplome_doctorat": 0,
         "diplome_licence": 0,
         "diplome_master": 1,
         "specialite_archeologie": 0,
         "specialite_detective": 1,
         "specialite_forage": 0,
         "specialite_geologie": 0,
         "age_(0, 30]": 0,
         "age_(30, 40]": 1,
         "age_(40, 50]": 0,
         "age_(50, 70]": 0,
         "salaire_(0, 30000]": 0,
         "salaire_(30000, 35000]": 1,
         "salaire_(35000, 40000]": 0,
         "salaire_(40000, 70000]": 0,
         "note_norm": 1.378593699690656,
         "_deepnote_index_column": 8873
        },
        {
         "dispo_non": 0,
         "dispo_oui": 1,
         "diplome_bac": 0,
         "diplome_doctorat": 1,
         "diplome_licence": 0,
         "diplome_master": 0,
         "specialite_archeologie": 0,
         "specialite_detective": 1,
         "specialite_forage": 0,
         "specialite_geologie": 0,
         "age_(0, 30]": 0,
         "age_(30, 40]": 1,
         "age_(40, 50]": 0,
         "age_(50, 70]": 0,
         "salaire_(0, 30000]": 0,
         "salaire_(30000, 35000]": 1,
         "salaire_(35000, 40000]": 0,
         "salaire_(40000, 70000]": 0,
         "note_norm": 0.30107831002233226,
         "_deepnote_index_column": 4748
        },
        {
         "dispo_non": 1,
         "dispo_oui": 0,
         "diplome_bac": 0,
         "diplome_doctorat": 0,
         "diplome_licence": 0,
         "diplome_master": 1,
         "specialite_archeologie": 0,
         "specialite_detective": 0,
         "specialite_forage": 1,
         "specialite_geologie": 0,
         "age_(0, 30]": 0,
         "age_(30, 40]": 1,
         "age_(40, 50]": 0,
         "age_(50, 70]": 0,
         "salaire_(0, 30000]": 0,
         "salaire_(30000, 35000]": 0,
         "salaire_(35000, 40000]": 1,
         "salaire_(40000, 70000]": 0,
         "note_norm": -0.7664600852972107,
         "_deepnote_index_column": 8451
        },
        {
         "dispo_non": 1,
         "dispo_oui": 0,
         "diplome_bac": 0,
         "diplome_doctorat": 0,
         "diplome_licence": 0,
         "diplome_master": 1,
         "specialite_archeologie": 0,
         "specialite_detective": 0,
         "specialite_forage": 0,
         "specialite_geologie": 1,
         "age_(0, 30]": 0,
         "age_(30, 40]": 1,
         "age_(40, 50]": 0,
         "age_(50, 70]": 0,
         "salaire_(0, 30000]": 1,
         "salaire_(30000, 35000]": 0,
         "salaire_(35000, 40000]": 0,
         "salaire_(40000, 70000]": 0,
         "note_norm": 1.2858663404490465,
         "_deepnote_index_column": 6947
        },
        {
         "dispo_non": 0,
         "dispo_oui": 1,
         "diplome_bac": 0,
         "diplome_doctorat": 0,
         "diplome_licence": 1,
         "diplome_master": 0,
         "specialite_archeologie": 0,
         "specialite_detective": 1,
         "specialite_forage": 0,
         "specialite_geologie": 0,
         "age_(0, 30]": 0,
         "age_(30, 40]": 1,
         "age_(40, 50]": 0,
         "age_(50, 70]": 0,
         "salaire_(0, 30000]": 0,
         "salaire_(30000, 35000]": 0,
         "salaire_(35000, 40000]": 1,
         "salaire_(40000, 70000]": 0,
         "note_norm": -0.4536519683619076,
         "_deepnote_index_column": 13675
        }
       ],
       "rows_bottom": null
      },
      "text/plain": "       dispo_non  dispo_oui  diplome_bac  diplome_doctorat  diplome_licence  \\\n8873           0          1            0                 0                0   \n4748           0          1            0                 1                0   \n8451           1          0            0                 0                0   \n6947           1          0            0                 0                0   \n13675          0          1            0                 0                1   \n\n       diplome_master  specialite_archeologie  specialite_detective  \\\n8873                1                       0                     1   \n4748                0                       0                     1   \n8451                1                       0                     0   \n6947                1                       0                     0   \n13675               0                       0                     1   \n\n       specialite_forage  specialite_geologie  age_(0, 30]  age_(30, 40]  \\\n8873                   0                    0            0             1   \n4748                   0                    0            0             1   \n8451                   1                    0            0             1   \n6947                   0                    1            0             1   \n13675                  0                    0            0             1   \n\n       age_(40, 50]  age_(50, 70]  salaire_(0, 30000]  salaire_(30000, 35000]  \\\n8873              0             0                   0                       1   \n4748              0             0                   0                       1   \n8451              0             0                   0                       0   \n6947              0             0                   1                       0   \n13675             0             0                   0                       0   \n\n       salaire_(35000, 40000]  salaire_(40000, 70000]  note_norm  \n8873                        0                       0   1.378594  \n4748                        0                       0   0.301078  \n8451                        1                       0  -0.766460  \n6947                        0                       0   1.285866  \n13675                       1                       0  -0.453652  ",
      "text/html": "<div>\n<style scoped>\n    .dataframe tbody tr th:only-of-type {\n        vertical-align: middle;\n    }\n\n    .dataframe tbody tr th {\n        vertical-align: top;\n    }\n\n    .dataframe thead th {\n        text-align: right;\n    }\n</style>\n<table border=\"1\" class=\"dataframe\">\n  <thead>\n    <tr style=\"text-align: right;\">\n      <th></th>\n      <th>dispo_non</th>\n      <th>dispo_oui</th>\n      <th>diplome_bac</th>\n      <th>diplome_doctorat</th>\n      <th>diplome_licence</th>\n      <th>diplome_master</th>\n      <th>specialite_archeologie</th>\n      <th>specialite_detective</th>\n      <th>specialite_forage</th>\n      <th>specialite_geologie</th>\n      <th>age_(0, 30]</th>\n      <th>age_(30, 40]</th>\n      <th>age_(40, 50]</th>\n      <th>age_(50, 70]</th>\n      <th>salaire_(0, 30000]</th>\n      <th>salaire_(30000, 35000]</th>\n      <th>salaire_(35000, 40000]</th>\n      <th>salaire_(40000, 70000]</th>\n      <th>note_norm</th>\n    </tr>\n  </thead>\n  <tbody>\n    <tr>\n      <th>8873</th>\n      <td>0</td>\n      <td>1</td>\n      <td>0</td>\n      <td>0</td>\n      <td>0</td>\n      <td>1</td>\n      <td>0</td>\n      <td>1</td>\n      <td>0</td>\n      <td>0</td>\n      <td>0</td>\n      <td>1</td>\n      <td>0</td>\n      <td>0</td>\n      <td>0</td>\n      <td>1</td>\n      <td>0</td>\n      <td>0</td>\n      <td>1.378594</td>\n    </tr>\n    <tr>\n      <th>4748</th>\n      <td>0</td>\n      <td>1</td>\n      <td>0</td>\n      <td>1</td>\n      <td>0</td>\n      <td>0</td>\n      <td>0</td>\n      <td>1</td>\n      <td>0</td>\n      <td>0</td>\n      <td>0</td>\n      <td>1</td>\n      <td>0</td>\n      <td>0</td>\n      <td>0</td>\n      <td>1</td>\n      <td>0</td>\n      <td>0</td>\n      <td>0.301078</td>\n    </tr>\n    <tr>\n      <th>8451</th>\n      <td>1</td>\n      <td>0</td>\n      <td>0</td>\n      <td>0</td>\n      <td>0</td>\n      <td>1</td>\n      <td>0</td>\n      <td>0</td>\n      <td>1</td>\n      <td>0</td>\n      <td>0</td>\n      <td>1</td>\n      <td>0</td>\n      <td>0</td>\n      <td>0</td>\n      <td>0</td>\n      <td>1</td>\n      <td>0</td>\n      <td>-0.766460</td>\n    </tr>\n    <tr>\n      <th>6947</th>\n      <td>1</td>\n      <td>0</td>\n      <td>0</td>\n      <td>0</td>\n      <td>0</td>\n      <td>1</td>\n      <td>0</td>\n      <td>0</td>\n      <td>0</td>\n      <td>1</td>\n      <td>0</td>\n      <td>1</td>\n      <td>0</td>\n      <td>0</td>\n      <td>1</td>\n      <td>0</td>\n      <td>0</td>\n      <td>0</td>\n      <td>1.285866</td>\n    </tr>\n    <tr>\n      <th>13675</th>\n      <td>0</td>\n      <td>1</td>\n      <td>0</td>\n      <td>0</td>\n      <td>1</td>\n      <td>0</td>\n      <td>0</td>\n      <td>1</td>\n      <td>0</td>\n      <td>0</td>\n      <td>0</td>\n      <td>1</td>\n      <td>0</td>\n      <td>0</td>\n      <td>0</td>\n      <td>0</td>\n      <td>1</td>\n      <td>0</td>\n      <td>-0.453652</td>\n    </tr>\n  </tbody>\n</table>\n</div>"
     },
     "metadata": {}
    }
   ]
  },
  {
   "cell_type": "markdown",
   "source": "Nous sommes en présence d'un problème de classification. On peut donc utiliser la <b>méthode des KNN (K nearest neighbors)</b> et <b> Random Forrest </b>. Nous allons ici faire une comparaison succinte des deux méthodes.",
   "metadata": {
    "tags": [],
    "cell_id": "00045-0a015688-026c-485c-8c5d-49c9ebdc15d9",
    "deepnote_cell_type": "markdown"
   }
  },
  {
   "cell_type": "markdown",
   "source": "#### Méthode KNN (K Nearest Neighbours)",
   "metadata": {
    "tags": [],
    "cell_id": "00057-549be786-00dd-4909-89f7-24c0f33379a8",
    "deepnote_cell_type": "markdown"
   }
  },
  {
   "cell_type": "markdown",
   "source": "On commence par lancer plusieurs fois le modèle sur notre jeu de données test afin d'obtenir un bon $k$ ($k_{ideal}$, c'et-à-dire ici celui qui va optimiser l'accuracy)",
   "metadata": {
    "tags": [],
    "cell_id": "00058-a6a40dfe-7047-4526-b69c-7730d822f4fb",
    "deepnote_cell_type": "markdown"
   }
  },
  {
   "cell_type": "code",
   "metadata": {
    "tags": [],
    "cell_id": "00059-010b2919-d179-4d3b-87c8-a46a56962f11",
    "deepnote_to_be_reexecuted": false,
    "source_hash": "4237bf1d",
    "execution_start": 1630159898671,
    "execution_millis": 24619,
    "deepnote_cell_type": "code"
   },
   "source": "scores = []\nk_range = list(range(1,20))\nfor k in tqdm(k_range):\n    knn = KNeighborsClassifier(n_neighbors=k)\n    knn.fit(X_train,y_train)\n    y_pred = knn.predict(X_test)\n    scores.append(accuracy_score(y_test,y_pred))",
   "execution_count": null,
   "outputs": [
    {
     "name": "stderr",
     "text": "100%|██████████| 19/19 [00:24<00:00,  1.30s/it]\n",
     "output_type": "stream"
    }
   ]
  },
  {
   "cell_type": "code",
   "metadata": {
    "tags": [],
    "cell_id": "00060-442de30c-b9c5-4520-9afd-b2cbfe917fbe",
    "deepnote_to_be_reexecuted": false,
    "source_hash": "3f1aaee2",
    "execution_start": 1630159923289,
    "execution_millis": 53,
    "deepnote_output_heights": [
     21.1875
    ],
    "deepnote_cell_type": "code"
   },
   "source": "ideal_k = k_range[scores.index(max(scores))]\nideal_k",
   "execution_count": null,
   "outputs": [
    {
     "output_type": "execute_result",
     "execution_count": 36,
     "data": {
      "text/plain": "15"
     },
     "metadata": {}
    }
   ]
  },
  {
   "cell_type": "code",
   "metadata": {
    "tags": [],
    "cell_id": "00060-61e24a92-d018-497b-8693-4e194a6b7336",
    "deepnote_to_be_reexecuted": false,
    "source_hash": "c3f1d6bc",
    "execution_start": 1630159923303,
    "execution_millis": 209,
    "deepnote_output_heights": [
     429
    ],
    "deepnote_cell_type": "code"
   },
   "source": "plt.figure(figsize=(8,6),dpi=80)\nplt.plot(k_range,scores,color='blue', linestyle='dashed', marker='o',markerfacecolor='red', markersize=10)\nplt.xlabel('Valeur de k')\nplt.ylabel('Accuracy')\nplt.title('Evolution de l`accuracy en fonction de la valeur de k')\nplt.show()",
   "execution_count": null,
   "outputs": [
    {
     "data": {
      "text/plain": "<Figure size 640x480 with 1 Axes>",
      "image/png": "[encoded data removed]"
     },
     "metadata": {
      "needs_background": "light",
      "image/png": {
       "width": 566,
       "height": 427
      }
     },
     "output_type": "display_data"
    }
   ]
  },
  {
   "cell_type": "markdown",
   "source": "On peut dénoter que <b>K=15</b> peut être une valeur intéressantes/idéale pour notre modélisation, ainsi on l'implémente comme suit:",
   "metadata": {
    "tags": [],
    "cell_id": "00063-03a6c799-d52f-45e5-9b47-df327cb96b99",
    "deepnote_cell_type": "markdown"
   }
  },
  {
   "cell_type": "code",
   "metadata": {
    "tags": [],
    "cell_id": "00046-5c13d23c-9edf-43cf-b7ec-3373049e9a40",
    "deepnote_to_be_reexecuted": false,
    "source_hash": "e48c632c",
    "execution_start": 1630159923496,
    "execution_millis": 102,
    "deepnote_output_heights": [
     21.1875
    ],
    "deepnote_cell_type": "code"
   },
   "source": "model=KNeighborsClassifier(n_neighbors=ideal_k)\nmodel.fit(X_train,y_train)",
   "execution_count": null,
   "outputs": [
    {
     "output_type": "execute_result",
     "execution_count": 38,
     "data": {
      "text/plain": "KNeighborsClassifier(n_neighbors=15)"
     },
     "metadata": {}
    }
   ]
  },
  {
   "cell_type": "code",
   "metadata": {
    "tags": [],
    "cell_id": "00064-6c659e11-6175-4aea-ae51-f9100deccda1",
    "deepnote_to_be_reexecuted": false,
    "source_hash": "44cbfd72",
    "execution_start": 1630159923514,
    "execution_millis": 96,
    "deepnote_cell_type": "code"
   },
   "source": "print('Resultats KNN avec K = '+str(ideal_k))\nprint(classification_report(y_test.to_list(), y_pred))",
   "execution_count": null,
   "outputs": [
    {
     "name": "stdout",
     "text": "Resultats KNN avec K = 15\n              precision    recall  f1-score   support\n\n           0       0.89      0.99      0.94      3448\n           1       0.70      0.10      0.18       463\n\n    accuracy                           0.89      3911\n   macro avg       0.79      0.55      0.56      3911\nweighted avg       0.87      0.89      0.85      3911\n\n",
     "output_type": "stream"
    }
   ]
  },
  {
   "cell_type": "markdown",
   "source": "#### Méthode Random Forrest",
   "metadata": {
    "tags": [],
    "cell_id": "00065-08e15e70-a862-4b4c-b83e-1fbf5f24a93e",
    "deepnote_cell_type": "markdown"
   }
  },
  {
   "cell_type": "markdown",
   "source": "L'idée est de lancer plusieurs fois le modèle sur notre je de données test afin d'obtenir un bon la profondeur de la forêt qui va optimiser l'accuracy.",
   "metadata": {
    "tags": [],
    "cell_id": "00066-718b3b08-62dd-4706-adb5-d7d130ea8282",
    "deepnote_cell_type": "markdown"
   }
  },
  {
   "cell_type": "code",
   "metadata": {
    "tags": [],
    "cell_id": "00064-1ba935aa-017f-40ca-bde1-0d5c1ace447d",
    "deepnote_to_be_reexecuted": false,
    "source_hash": "4ff58a35",
    "execution_start": 1630159923580,
    "execution_millis": 28333,
    "deepnote_cell_type": "code"
   },
   "source": "scores = []\ndepth_range = list(range(5,30))\nfor k in tqdm(depth_range):\n    clf = RandomForestClassifier(max_depth=k, random_state=0)\n    clf = clf.fit(X_train, y_train)\n    y_pred = clf.predict(X_test)\n    scores.append(accuracy_score(y_test,y_pred))",
   "execution_count": null,
   "outputs": [
    {
     "name": "stderr",
     "text": "100%|██████████| 25/25 [00:28<00:00,  1.13s/it]\n",
     "output_type": "stream"
    }
   ]
  },
  {
   "cell_type": "code",
   "metadata": {
    "tags": [],
    "cell_id": "00068-d2817f3f-e450-48e5-93dd-c183275c2020",
    "deepnote_to_be_reexecuted": false,
    "source_hash": "f3815e50",
    "execution_start": 1630159951921,
    "execution_millis": 56,
    "deepnote_output_heights": [
     21.1875
    ],
    "deepnote_cell_type": "code"
   },
   "source": "ideal_depth = depth_range[scores.index(max(scores))]\nideal_depth",
   "execution_count": null,
   "outputs": [
    {
     "output_type": "execute_result",
     "execution_count": 41,
     "data": {
      "text/plain": "12"
     },
     "metadata": {}
    }
   ]
  },
  {
   "cell_type": "code",
   "metadata": {
    "tags": [],
    "cell_id": "00067-aaa0b11c-3be6-427e-a2b9-745dccbd187b",
    "deepnote_to_be_reexecuted": false,
    "source_hash": "6ffa91ab",
    "execution_start": 1630159951948,
    "execution_millis": 344,
    "deepnote_output_heights": [
     429
    ],
    "deepnote_cell_type": "code"
   },
   "source": "plt.figure(figsize=(8,6),dpi=80)\nplt.plot(depth_range,scores,color='blue', linestyle='dashed', marker='o',markerfacecolor='red', markersize=10)\nplt.xlabel('Valeur de depth')\nplt.ylabel('Accuracy')\nplt.title(\"Evolution de l'accuracy en fonction de la valeur de depth\")\nplt.show()",
   "execution_count": null,
   "outputs": [
    {
     "data": {
      "text/plain": "<Figure size 640x480 with 1 Axes>",
      "image/png": "[encoded data removed]"
     },
     "metadata": {
      "needs_background": "light",
      "image/png": {
       "width": 562,
       "height": 427
      }
     },
     "output_type": "display_data"
    }
   ]
  },
  {
   "cell_type": "code",
   "metadata": {
    "tags": [],
    "cell_id": "00063-250efd58-cc2a-48a6-991f-538778bc2d7a",
    "deepnote_to_be_reexecuted": false,
    "source_hash": "4d43cdd7",
    "execution_start": 1630159952294,
    "execution_millis": 1512,
    "deepnote_cell_type": "code"
   },
   "source": "clf = RandomForestClassifier(max_depth=ideal_depth, random_state=0)\nclf = clf.fit(X_train, y_train)\ny_pred = clf.predict(X_test)",
   "execution_count": null,
   "outputs": []
  },
  {
   "cell_type": "code",
   "metadata": {
    "tags": [],
    "cell_id": "00065-021c404c-cb41-440b-9fb8-6d5e650967a5",
    "deepnote_to_be_reexecuted": false,
    "source_hash": "b1302f02",
    "execution_start": 1630159953812,
    "execution_millis": 48,
    "deepnote_cell_type": "code"
   },
   "source": "print('Resultats Random Forrest avec depth = ' + str(ideal_k))\nprint(classification_report(y_test.to_list(), y_pred))",
   "execution_count": null,
   "outputs": [
    {
     "name": "stdout",
     "text": "Resultats Random Forrest avec depth = 15\n              precision    recall  f1-score   support\n\n           0       0.90      0.99      0.94      3448\n           1       0.70      0.20      0.31       463\n\n    accuracy                           0.89      3911\n   macro avg       0.80      0.59      0.63      3911\nweighted avg       0.88      0.89      0.87      3911\n\n",
     "output_type": "stream"
    }
   ]
  },
  {
   "cell_type": "markdown",
   "source": "Ici, on remarque que le modèle Random Forrest donne de meilleures métriques de performance que le modèle KNN concernant la prédiction de l'embauche.",
   "metadata": {
    "tags": [],
    "cell_id": "00076-36d2d224-4ca3-4295-9a10-bd6e21b90372",
    "deepnote_cell_type": "markdown"
   }
  },
  {
   "cell_type": "markdown",
   "source": "### 2. Quelles sont les variables les plus importantes de votre modèle ? Commentez.",
   "metadata": {
    "cell_id": "00015-e6f57a0e-5bd6-49ae-a5e8-434439d976c9",
    "deepnote_cell_type": "markdown"
   }
  },
  {
   "cell_type": "markdown",
   "source": "Quand on utilise le modèle RandomForrest, il est possible de connaître les Features les plus importants en utilisant des méthodes Embedded.\n\nLorsque l'on fait l'analyse une première fois, on dénote que c'est la <b>note obtenue à l'exercice de recherche d'or</b> qui influence le plus notre modèle.",
   "metadata": {
    "tags": [],
    "cell_id": "00073-da78355b-b061-493a-aca0-4e1d8d03f27a",
    "deepnote_cell_type": "markdown"
   }
  },
  {
   "cell_type": "code",
   "metadata": {
    "tags": [],
    "cell_id": "00074-c8bee5f1-5f96-4bb4-9569-6d9f0ae351e4",
    "deepnote_to_be_reexecuted": false,
    "source_hash": "5cb948b6",
    "execution_start": 1630159953854,
    "execution_millis": 284,
    "deepnote_cell_type": "code"
   },
   "source": "X = X_train\ny = y_train\n\nembeded_rf_selector = SelectFromModel(RandomForestClassifier(n_estimators=12),max_features=18)\nembeded_rf_selector.fit(X, y)\n\nembeded_rf_support = embeded_rf_selector.get_support()\nembeded_rf_feature = X.loc[:,embeded_rf_support].columns.tolist()\nprint(str(len(embeded_rf_feature)), 'selected features')\nprint(embeded_rf_feature)",
   "execution_count": null,
   "outputs": [
    {
     "name": "stdout",
     "text": "1 selected features\n['note_norm']\n",
     "output_type": "stream"
    }
   ]
  },
  {
   "cell_type": "markdown",
   "source": "Lorsque l'on fait un test en supprimant les données des notes, il nous reste finalement comme Features principaux la <b>disponibilité immédiate</b> du candidat et également la <b>spécialité de son diplôme</b>.\n\nAinsi comme variables les plus importantes de notre modèle, on a la note , le disponibilité immédiate et la spécialité du diplôme\n\nCela s'inscrit plus ou moins aisément dans le cadre d'un processus de recrutement à savoir que dans la plupart des entreprises ces variables influencent grandement la sélection. Par exemple, si on considère deux candidats:\n<ul>\n<li> A = Axel candidat ayant une note de 20/100 à l'exercice de recherche d'or, disponible immédiatement et ayant comme spécialité la géologie, et\n<li> B = Bertrand candidat ayant une note de 60/100 à l'exercice de recherche d'or,aussi disponible immédiatement et ayant aussi comme spécialité la géologie\n</ul>\n\nOn serait  même humainement tentés de se dire que toutes choses égales par ailleurs, B aurait a priori plus de chances d'être recruté que A.",
   "metadata": {
    "tags": [],
    "cell_id": "00076-f6b4d90c-7bec-4017-8b43-b096e40f443e",
    "deepnote_cell_type": "markdown"
   }
  },
  {
   "cell_type": "markdown",
   "source": "### 3. Décrivez et justifiez le critère de performance utilisé",
   "metadata": {
    "cell_id": "00017-892987ac-dfc7-40a9-9ffc-a97a049ce8a6",
    "deepnote_cell_type": "markdown"
   }
  },
  {
   "cell_type": "markdown",
   "source": "Nous avons utilisé 3 critères de performance pour l'évaluation de nos modèles :\n<ul>\n<li> l'<b>accuracy</b> qui est la proportion de vrais résultats sur tous les cas examinés \n<li> la <b>précision</b> qui donne la proportion de valeurs positives prédites qui le sont réellement\n<li> le <b>recall</b> qui donne la proportion de Vrais Positifs qui sont bien classés\n</ul>\n\nIl est important de noter que l'accuracy est une mesure facile à comprendre et c'est principalement la raison pour laquelle nous l'avons utilisée. Cependant, le jeu de données contient un tel déséquilibre de classe (distribution ~90/10) que cette mesure n'est pas intéressante pour attester de l'effectivité du modèle.\n\nIl convient mieux d'utiliser les valeurs comme la precision et le recall pour chacune des classes. Encore une fois, la faible proportion des données ayant $embauche = 1$ induit ici un recall raisonnablement faible.",
   "metadata": {
    "tags": [],
    "cell_id": "00069-3aa768d7-77d0-4360-bc29-fa6c1b89f100",
    "deepnote_cell_type": "markdown"
   }
  },
  {
   "cell_type": "markdown",
   "source": "### 4. Proposez deux à trois pistes d’amélioration de votre modèle.",
   "metadata": {
    "cell_id": "00019-e0bd4adf-83d3-4c4f-abec-c52f8bd7420f",
    "deepnote_cell_type": "markdown"
   }
  },
  {
   "cell_type": "markdown",
   "source": "Afin d'améliorer le modèle on pourrait commencer par chercher à s'imprégner d'une connaissance métier à savoir parler avec le pôle RH recrutement afin de savoir quels paramètres typiques sont bons signes pour une candidature, lesquels sont plus pénalisants etc. de manière à mieux cibler les features les plus pertinents sur lesquels travailler.\n\nOn pourrait également penser à \"équilibrer\" la base, c'est à dire d'essayer d'avoir - par exemple - 40% de 1 au total (au lieu de 11%) afin de mieux entraîner notre modèle. Cette partie impacte le résultat dans la mesure ou notre valeur de <b>recall</b> (proportion des Vrais Positifs bien classés) est toujours assez faible (proche des 30%)",
   "metadata": {
    "tags": [],
    "cell_id": "00073-8b78b691-aa10-4806-b81d-e24b742f2dfa",
    "deepnote_cell_type": "markdown"
   }
  },
  {
   "cell_type": "markdown",
   "source": "<a style='text-decoration:none;line-height:16px;display:flex;color:#5B5B62;padding:10px;justify-content:end;' href='https://deepnote.com?utm_source=created-in-deepnote-cell&projectId=eb7dcf26-eb0d-4e7d-b73a-acc8f40d7b73' target=\"_blank\">\n<img alt='Created in deepnote.com' style='display:inline;max-height:16px;margin:0px;margin-right:7.5px;' src='data:image/svg+xml;base64,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' > </img>\nCreated in <span style='font-weight:600;margin-left:4px;'>Deepnote</span></a>",
   "metadata": {
    "tags": [],
    "created_in_deepnote_cell": true,
    "deepnote_cell_type": "markdown"
   }
  }
 ],
 "nbformat": 4,
 "nbformat_minor": 4,
 "metadata": {
  "kernelspec": {
   "display_name": "Python 3",
   "language": "python",
   "name": "python3"
  },
  "language_info": {
   "codemirror_mode": {
    "name": "ipython",
    "version": 3
   },
   "file_extension": ".py",
   "mimetype": "text/x-python",
   "name": "python",
   "nbconvert_exporter": "python",
   "pygments_lexer": "ipython3",
   "version": "3.8.5"
  },
  "deepnote_notebook_id": "8cda0fc8-9433-43a4-8310-0f788bc22e5c",
  "deepnote": {
   "is_reactive": false
  },
  "deepnote_execution_queue": []
 }
}